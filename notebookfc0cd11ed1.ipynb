{
 "cells": [
  {
   "cell_type": "markdown",
   "id": "0be68424",
   "metadata": {
    "papermill": {
     "duration": 0.050336,
     "end_time": "2022-04-30T19:01:46.476289",
     "exception": false,
     "start_time": "2022-04-30T19:01:46.425953",
     "status": "completed"
    },
    "tags": []
   },
   "source": [
    "<div style=\"font-family:verdana; word-spacing:1.5px;\">\n",
    "<h2><p style=\"background-color:#33e0ff;color:white;text-align:center;font-size:175%;padding: 10px;\"> Introduction</p></h2>\n",
    "</div>    "
   ]
  },
  {
   "cell_type": "markdown",
   "id": "5de36918",
   "metadata": {
    "papermill": {
     "duration": 0.05043,
     "end_time": "2022-04-30T19:01:46.575017",
     "exception": false,
     "start_time": "2022-04-30T19:01:46.524587",
     "status": "completed"
    },
    "tags": []
   },
   "source": [
    "<div style=\"font-family:verdana; word-spacing:1.5px;\">\n",
    "    \n",
    "<b>Objective</b><br>\n",
    "    \n",
    "    \n",
    "We are tasked to identify the characteristics of the target audience for each type of treadmill offered by the company, to provide a better recommendation of the treadmills to the new customers. \n",
    "<br>   \n",
    "    \n",
    "<b>About the Dataset</b>   <br>\n",
    "The company collected the data on individuals who purchased a treadmill from the AeroFit stores during the prior three months. \n",
    "    <br>\n",
    "    Working as a data scientist with the analytics vertical of Scaler, we got this dataset from the Scaler database.<br><br>\n",
    "      The dataset contains following features:\n",
    "    <ul>\n",
    "     <li> Product Purchased: \tKP281, KP481, or KP781\n",
    " <li>   Age: \tIn years\n",
    " <li>   Gender: \tMale/Female\n",
    " <li>   Education: \tIn years\n",
    " <li>   MaritalStatus: \tSingle or partnered\n",
    " <li>   Usage: \tThe average number of times the customer plans to use the treadmill each week.\n",
    " <li>   Income: \tAnnual income (in $)\n",
    " <li>   Fitness: \tSelf-rated fitness on a 1-to-5 scale, where 1 is the poor shape and 5 is the excellent shape.\n",
    " <li>   Miles: \tThe average number of miles the customer expects to walk/run each week\n",
    "\n",
    "\n",
    "\n",
    "</ul><br>\n",
    "There are 180 data points and 9 features.\n",
    "<br><br>\n",
    "    \n",
    "<b>Expected points :</b><br>\n",
    "<ul>\n",
    "    <li> Customer Segmentation\n",
    "    <li> EDA\n",
    "</ul>\n",
    "\n",
    "</div>  "
   ]
  },
  {
   "cell_type": "code",
   "execution_count": 1,
   "id": "0ce1c550",
   "metadata": {
    "_cell_guid": "b1076dfc-b9ad-4769-8c92-a6c4dae69d19",
    "_uuid": "8f2839f25d086af736a60e9eeb907d3b93b6e0e5",
    "execution": {
     "iopub.execute_input": "2022-04-30T19:01:46.674174Z",
     "iopub.status.busy": "2022-04-30T19:01:46.672898Z",
     "iopub.status.idle": "2022-04-30T19:01:48.086526Z",
     "shell.execute_reply": "2022-04-30T19:01:48.085589Z"
    },
    "papermill": {
     "duration": 1.467222,
     "end_time": "2022-04-30T19:01:48.090254",
     "exception": false,
     "start_time": "2022-04-30T19:01:46.623032",
     "status": "completed"
    },
    "tags": []
   },
   "outputs": [],
   "source": [
    "# This Python 3 environment comes with many helpful analytics libraries installed\n",
    "# It is defined by the kaggle/python Docker image: https://github.com/kaggle/docker-python\n",
    "# For example, here's several helpful packages to load\n",
    "\n",
    "import numpy as np # linear algebra\n",
    "import pandas as pd # data processing, CSV file I/O (e.g. pd.read_csv)\n",
    "import seaborn as sns\n",
    "from matplotlib import pyplot as plt\n",
    "# Input data files are available in the read-only \"../input/\" directory\n",
    "# For example, running this (by clicking run or pressing Shift+Enter) will list all files under the input directory\n",
    "import warnings\n",
    "warnings.filterwarnings('ignore')\n",
    "from sklearn.preprocessing import KBinsDiscretizer\n",
    "import os\n",
    "for dirname, _, filenames in os.walk('/kaggle/input'):\n",
    "    for filename in filenames:\n",
    "        print(os.path.join(dirname, filename))\n",
    "\n",
    "# You can write up to 20GB to the current directory (/kaggle/working/) that gets preserved as output when you create a version using \"Save & Run All\" \n",
    "# You can also write temporary files to /kaggle/temp/, but they won't be saved outside of the current session"
   ]
  },
  {
   "cell_type": "code",
   "execution_count": 2,
   "id": "bfc29a0b",
   "metadata": {
    "execution": {
     "iopub.execute_input": "2022-04-30T19:01:48.197941Z",
     "iopub.status.busy": "2022-04-30T19:01:48.197127Z",
     "iopub.status.idle": "2022-04-30T19:01:48.513486Z",
     "shell.execute_reply": "2022-04-30T19:01:48.512753Z"
    },
    "papermill": {
     "duration": 0.369508,
     "end_time": "2022-04-30T19:01:48.516159",
     "exception": false,
     "start_time": "2022-04-30T19:01:48.146651",
     "status": "completed"
    },
    "tags": []
   },
   "outputs": [],
   "source": [
    "data = pd.read_csv('https://d2beiqkhq929f0.cloudfront.net/public_assets/assets/000/001/125/original/aerofit_treadmill.csv?1639992749')"
   ]
  },
  {
   "cell_type": "code",
   "execution_count": 3,
   "id": "6cfc18f4",
   "metadata": {
    "execution": {
     "iopub.execute_input": "2022-04-30T19:01:48.614013Z",
     "iopub.status.busy": "2022-04-30T19:01:48.613531Z",
     "iopub.status.idle": "2022-04-30T19:01:48.637226Z",
     "shell.execute_reply": "2022-04-30T19:01:48.636131Z"
    },
    "papermill": {
     "duration": 0.077437,
     "end_time": "2022-04-30T19:01:48.641685",
     "exception": false,
     "start_time": "2022-04-30T19:01:48.564248",
     "status": "completed"
    },
    "tags": []
   },
   "outputs": [
    {
     "name": "stdout",
     "output_type": "stream",
     "text": [
      "Dimensions of dataset  (180, 9)\n"
     ]
    },
    {
     "data": {
      "text/html": [
       "<div>\n",
       "<style scoped>\n",
       "    .dataframe tbody tr th:only-of-type {\n",
       "        vertical-align: middle;\n",
       "    }\n",
       "\n",
       "    .dataframe tbody tr th {\n",
       "        vertical-align: top;\n",
       "    }\n",
       "\n",
       "    .dataframe thead th {\n",
       "        text-align: right;\n",
       "    }\n",
       "</style>\n",
       "<table border=\"1\" class=\"dataframe\">\n",
       "  <thead>\n",
       "    <tr style=\"text-align: right;\">\n",
       "      <th></th>\n",
       "      <th>Product</th>\n",
       "      <th>Age</th>\n",
       "      <th>Gender</th>\n",
       "      <th>Education</th>\n",
       "      <th>MaritalStatus</th>\n",
       "      <th>Usage</th>\n",
       "      <th>Fitness</th>\n",
       "      <th>Income</th>\n",
       "      <th>Miles</th>\n",
       "    </tr>\n",
       "  </thead>\n",
       "  <tbody>\n",
       "    <tr>\n",
       "      <th>0</th>\n",
       "      <td>KP281</td>\n",
       "      <td>18</td>\n",
       "      <td>Male</td>\n",
       "      <td>14</td>\n",
       "      <td>Single</td>\n",
       "      <td>3</td>\n",
       "      <td>4</td>\n",
       "      <td>29562</td>\n",
       "      <td>112</td>\n",
       "    </tr>\n",
       "    <tr>\n",
       "      <th>1</th>\n",
       "      <td>KP281</td>\n",
       "      <td>19</td>\n",
       "      <td>Male</td>\n",
       "      <td>15</td>\n",
       "      <td>Single</td>\n",
       "      <td>2</td>\n",
       "      <td>3</td>\n",
       "      <td>31836</td>\n",
       "      <td>75</td>\n",
       "    </tr>\n",
       "    <tr>\n",
       "      <th>2</th>\n",
       "      <td>KP281</td>\n",
       "      <td>19</td>\n",
       "      <td>Female</td>\n",
       "      <td>14</td>\n",
       "      <td>Partnered</td>\n",
       "      <td>4</td>\n",
       "      <td>3</td>\n",
       "      <td>30699</td>\n",
       "      <td>66</td>\n",
       "    </tr>\n",
       "    <tr>\n",
       "      <th>3</th>\n",
       "      <td>KP281</td>\n",
       "      <td>19</td>\n",
       "      <td>Male</td>\n",
       "      <td>12</td>\n",
       "      <td>Single</td>\n",
       "      <td>3</td>\n",
       "      <td>3</td>\n",
       "      <td>32973</td>\n",
       "      <td>85</td>\n",
       "    </tr>\n",
       "    <tr>\n",
       "      <th>4</th>\n",
       "      <td>KP281</td>\n",
       "      <td>20</td>\n",
       "      <td>Male</td>\n",
       "      <td>13</td>\n",
       "      <td>Partnered</td>\n",
       "      <td>4</td>\n",
       "      <td>2</td>\n",
       "      <td>35247</td>\n",
       "      <td>47</td>\n",
       "    </tr>\n",
       "  </tbody>\n",
       "</table>\n",
       "</div>"
      ],
      "text/plain": [
       "  Product  Age  Gender  Education MaritalStatus  Usage  Fitness  Income  Miles\n",
       "0   KP281   18    Male         14        Single      3        4   29562    112\n",
       "1   KP281   19    Male         15        Single      2        3   31836     75\n",
       "2   KP281   19  Female         14     Partnered      4        3   30699     66\n",
       "3   KP281   19    Male         12        Single      3        3   32973     85\n",
       "4   KP281   20    Male         13     Partnered      4        2   35247     47"
      ]
     },
     "execution_count": 3,
     "metadata": {},
     "output_type": "execute_result"
    }
   ],
   "source": [
    "print(\"Dimensions of dataset \",data.shape)\n",
    "\n",
    "data.head()"
   ]
  },
  {
   "cell_type": "code",
   "execution_count": 4,
   "id": "d9dd63fa",
   "metadata": {
    "execution": {
     "iopub.execute_input": "2022-04-30T19:01:48.742231Z",
     "iopub.status.busy": "2022-04-30T19:01:48.741577Z",
     "iopub.status.idle": "2022-04-30T19:01:48.767446Z",
     "shell.execute_reply": "2022-04-30T19:01:48.766449Z"
    },
    "papermill": {
     "duration": 0.078794,
     "end_time": "2022-04-30T19:01:48.770093",
     "exception": false,
     "start_time": "2022-04-30T19:01:48.691299",
     "status": "completed"
    },
    "tags": []
   },
   "outputs": [
    {
     "name": "stdout",
     "output_type": "stream",
     "text": [
      "<class 'pandas.core.frame.DataFrame'>\n",
      "RangeIndex: 180 entries, 0 to 179\n",
      "Data columns (total 9 columns):\n",
      " #   Column         Non-Null Count  Dtype \n",
      "---  ------         --------------  ----- \n",
      " 0   Product        180 non-null    object\n",
      " 1   Age            180 non-null    int64 \n",
      " 2   Gender         180 non-null    object\n",
      " 3   Education      180 non-null    int64 \n",
      " 4   MaritalStatus  180 non-null    object\n",
      " 5   Usage          180 non-null    int64 \n",
      " 6   Fitness        180 non-null    int64 \n",
      " 7   Income         180 non-null    int64 \n",
      " 8   Miles          180 non-null    int64 \n",
      "dtypes: int64(6), object(3)\n",
      "memory usage: 12.8+ KB\n"
     ]
    }
   ],
   "source": [
    "data.info()"
   ]
  },
  {
   "cell_type": "markdown",
   "id": "634e907b",
   "metadata": {
    "papermill": {
     "duration": 0.049147,
     "end_time": "2022-04-30T19:01:48.869912",
     "exception": false,
     "start_time": "2022-04-30T19:01:48.820765",
     "status": "completed"
    },
    "tags": []
   },
   "source": [
    "<b> Checking for Null Values in dataset</b>"
   ]
  },
  {
   "cell_type": "code",
   "execution_count": 5,
   "id": "8188e16a",
   "metadata": {
    "execution": {
     "iopub.execute_input": "2022-04-30T19:01:48.972895Z",
     "iopub.status.busy": "2022-04-30T19:01:48.972562Z",
     "iopub.status.idle": "2022-04-30T19:01:48.982656Z",
     "shell.execute_reply": "2022-04-30T19:01:48.981802Z"
    },
    "papermill": {
     "duration": 0.063326,
     "end_time": "2022-04-30T19:01:48.985204",
     "exception": false,
     "start_time": "2022-04-30T19:01:48.921878",
     "status": "completed"
    },
    "tags": []
   },
   "outputs": [
    {
     "data": {
      "text/plain": [
       "Product          0\n",
       "Age              0\n",
       "Gender           0\n",
       "Education        0\n",
       "MaritalStatus    0\n",
       "Usage            0\n",
       "Fitness          0\n",
       "Income           0\n",
       "Miles            0\n",
       "dtype: int64"
      ]
     },
     "execution_count": 5,
     "metadata": {},
     "output_type": "execute_result"
    }
   ],
   "source": [
    "data.isna().sum()"
   ]
  },
  {
   "cell_type": "markdown",
   "id": "e8435590",
   "metadata": {
    "papermill": {
     "duration": 0.050259,
     "end_time": "2022-04-30T19:01:49.086910",
     "exception": false,
     "start_time": "2022-04-30T19:01:49.036651",
     "status": "completed"
    },
    "tags": []
   },
   "source": [
    "<div style=\"display:fill;\n",
    "           border-radius:5px;\n",
    "           background-color:#BDE6ED;\n",
    "           font-size:110%;\n",
    "           font-family:verdana;\n",
    "           letter-spacing:0.5px\">\n",
    "\n",
    "<p style=\"padding: 10px;\n",
    "              color:black;\"> \n",
    "    Data contains nno null values.\n",
    "    </p>\n",
    "    </div>"
   ]
  },
  {
   "cell_type": "code",
   "execution_count": 6,
   "id": "3db7f24c",
   "metadata": {
    "execution": {
     "iopub.execute_input": "2022-04-30T19:01:49.188483Z",
     "iopub.status.busy": "2022-04-30T19:01:49.187944Z",
     "iopub.status.idle": "2022-04-30T19:01:49.194318Z",
     "shell.execute_reply": "2022-04-30T19:01:49.193693Z"
    },
    "papermill": {
     "duration": 0.059456,
     "end_time": "2022-04-30T19:01:49.196328",
     "exception": false,
     "start_time": "2022-04-30T19:01:49.136872",
     "status": "completed"
    },
    "tags": []
   },
   "outputs": [],
   "source": [
    "data['Product'] = data['Product'].replace({'KP281':'A', 'KP481':'B', 'KP781':'C'})"
   ]
  },
  {
   "cell_type": "code",
   "execution_count": 7,
   "id": "958fd8e1",
   "metadata": {
    "execution": {
     "iopub.execute_input": "2022-04-30T19:01:49.298144Z",
     "iopub.status.busy": "2022-04-30T19:01:49.297500Z",
     "iopub.status.idle": "2022-04-30T19:01:49.309247Z",
     "shell.execute_reply": "2022-04-30T19:01:49.308368Z"
    },
    "papermill": {
     "duration": 0.066748,
     "end_time": "2022-04-30T19:01:49.312623",
     "exception": false,
     "start_time": "2022-04-30T19:01:49.245875",
     "status": "completed"
    },
    "tags": []
   },
   "outputs": [
    {
     "name": "stdout",
     "output_type": "stream",
     "text": [
      "Product  :  3\n",
      "Age  :  32\n",
      "Gender  :  2\n",
      "Education  :  8\n",
      "MaritalStatus  :  2\n",
      "Usage  :  6\n",
      "Fitness  :  5\n",
      "Income  :  62\n",
      "Miles  :  37\n"
     ]
    }
   ],
   "source": [
    "for i in data.columns:\n",
    "    print(i,' : ', data[i].nunique())"
   ]
  },
  {
   "cell_type": "markdown",
   "id": "fa06b991",
   "metadata": {
    "papermill": {
     "duration": 0.049445,
     "end_time": "2022-04-30T19:01:49.412938",
     "exception": false,
     "start_time": "2022-04-30T19:01:49.363493",
     "status": "completed"
    },
    "tags": []
   },
   "source": [
    "<div style=\"display:fill;\n",
    "           border-radius:5px;\n",
    "           background-color:#BDE6ED;\n",
    "           font-size:110%;\n",
    "           font-family:verdana;\n",
    "           letter-spacing:0.5px\">\n",
    "\n",
    "<p style=\"padding: 10px;\n",
    "              color:black;\"> \n",
    "    Type of features:\n",
    "    <ul>\n",
    "        <li> Categorical features -> [Product ,Gender, Education, MaritalStatus, Usage, Fitness]\n",
    "        <li> Continous features -> [Age, Income, Miles] \n",
    "    </p>\n",
    "    </div>"
   ]
  },
  {
   "cell_type": "markdown",
   "id": "d202655f",
   "metadata": {
    "papermill": {
     "duration": 0.049761,
     "end_time": "2022-04-30T19:01:49.513051",
     "exception": false,
     "start_time": "2022-04-30T19:01:49.463290",
     "status": "completed"
    },
    "tags": []
   },
   "source": [
    "<div style=\"font-family:verdana; word-spacing:1.5px;\">\n",
    "<h3><p style=\"background-color:#33e0ff;color:white;text-align:center;font-size:175%;padding: 10px;\">EDA</p></h3>\n",
    "</div>    "
   ]
  },
  {
   "cell_type": "markdown",
   "id": "f2cf94ea",
   "metadata": {
    "papermill": {
     "duration": 0.049343,
     "end_time": "2022-04-30T19:01:49.612206",
     "exception": false,
     "start_time": "2022-04-30T19:01:49.562863",
     "status": "completed"
    },
    "tags": []
   },
   "source": [
    "<div style=\"font-family:verdana; word-spacing:1.5px;\">\n",
    "    <h4><p style=\"text-align:center;font-size:125%;padding: 10px;\"><b>Univariate Analysis</b></p></h4>\n",
    "    </div>"
   ]
  },
  {
   "cell_type": "markdown",
   "id": "b7c48009",
   "metadata": {
    "papermill": {
     "duration": 0.049842,
     "end_time": "2022-04-30T19:01:49.712152",
     "exception": false,
     "start_time": "2022-04-30T19:01:49.662310",
     "status": "completed"
    },
    "tags": []
   },
   "source": [
    "<h3><b>Checking Distribution for Continuous features</b></h3>"
   ]
  },
  {
   "cell_type": "code",
   "execution_count": 8,
   "id": "3bfe7be1",
   "metadata": {
    "execution": {
     "iopub.execute_input": "2022-04-30T19:01:49.814798Z",
     "iopub.status.busy": "2022-04-30T19:01:49.814472Z",
     "iopub.status.idle": "2022-04-30T19:01:49.818284Z",
     "shell.execute_reply": "2022-04-30T19:01:49.817694Z"
    },
    "papermill": {
     "duration": 0.057632,
     "end_time": "2022-04-30T19:01:49.820391",
     "exception": false,
     "start_time": "2022-04-30T19:01:49.762759",
     "status": "completed"
    },
    "tags": []
   },
   "outputs": [],
   "source": [
    "contin_columns = ['Age', 'Income', 'Miles']"
   ]
  },
  {
   "cell_type": "code",
   "execution_count": 9,
   "id": "47da09e4",
   "metadata": {
    "execution": {
     "iopub.execute_input": "2022-04-30T19:01:49.923385Z",
     "iopub.status.busy": "2022-04-30T19:01:49.922706Z",
     "iopub.status.idle": "2022-04-30T19:01:50.949391Z",
     "shell.execute_reply": "2022-04-30T19:01:50.948711Z"
    },
    "papermill": {
     "duration": 1.08029,
     "end_time": "2022-04-30T19:01:50.951608",
     "exception": false,
     "start_time": "2022-04-30T19:01:49.871318",
     "status": "completed"
    },
    "tags": []
   },
   "outputs": [
    {
     "data": {
      "image/png": "[encoded data removed]",
      "text/plain": [
       "<Figure size 864x360 with 2 Axes>"
      ]
     },
     "metadata": {
      "needs_background": "light"
     },
     "output_type": "display_data"
    },
    {
     "data": {
      "image/png": "[encoded data removed]",
      "text/plain": [
       "<Figure size 864x360 with 2 Axes>"
      ]
     },
     "metadata": {
      "needs_background": "light"
     },
     "output_type": "display_data"
    },
    {
     "data": {
      "image/png": "[encoded data removed]",
      "text/plain": [
       "<Figure size 864x360 with 2 Axes>"
      ]
     },
     "metadata": {
      "needs_background": "light"
     },
     "output_type": "display_data"
    }
   ],
   "source": [
    "for i in contin_columns:\n",
    "    fig,ax = plt.subplots(1,2,figsize=(12,5))\n",
    "    fig.suptitle('Plots for '+i)\n",
    "    sns.distplot(data[i],bins=20,ax=ax[0],color='lightblue').set(title = i)\n",
    "    sns.boxplot(data[i],ax=ax[1],color='lightblue').set(title = i)\n",
    "    plt.show()"
   ]
  },
  {
   "cell_type": "markdown",
   "id": "89029769",
   "metadata": {
    "papermill": {
     "duration": 0.054231,
     "end_time": "2022-04-30T19:01:51.060531",
     "exception": false,
     "start_time": "2022-04-30T19:01:51.006300",
     "status": "completed"
    },
    "tags": []
   },
   "source": [
    "<h3><b>Insights</b></h3>\n",
    "\n",
    "<div style=\"display:fill;\n",
    "           border-radius:5px;\n",
    "           background-color:#BDE6ED;\n",
    "           font-size:110%;\n",
    "           font-family:verdana;\n",
    "           letter-spacing:0.5px\">\n",
    "\n",
    "<p style=\"padding: 10px;\n",
    "              color:black;\"> \n",
    "    <ul>\n",
    "        <li> There are outliers present in [Age, Income, Miles].\n",
    "        <li> Age - follows right tailed normal distribution.\n",
    "        <li> Income - follows bimodal normal distribution with two peaks.\n",
    "        <li> Miles - follows right tailed normal distribution.\n",
    "    </p>\n",
    "    </div>"
   ]
  },
  {
   "cell_type": "markdown",
   "id": "282b2459",
   "metadata": {
    "papermill": {
     "duration": 0.054064,
     "end_time": "2022-04-30T19:01:51.168109",
     "exception": false,
     "start_time": "2022-04-30T19:01:51.114045",
     "status": "completed"
    },
    "tags": []
   },
   "source": [
    "<h3><b>Outliers Removal </b></h3>"
   ]
  },
  {
   "cell_type": "code",
   "execution_count": 10,
   "id": "38ebe59b",
   "metadata": {
    "execution": {
     "iopub.execute_input": "2022-04-30T19:01:51.277349Z",
     "iopub.status.busy": "2022-04-30T19:01:51.276678Z",
     "iopub.status.idle": "2022-04-30T19:01:51.440429Z",
     "shell.execute_reply": "2022-04-30T19:01:51.439438Z"
    },
    "papermill": {
     "duration": 0.221131,
     "end_time": "2022-04-30T19:01:51.442770",
     "exception": false,
     "start_time": "2022-04-30T19:01:51.221639",
     "status": "completed"
    },
    "tags": []
   },
   "outputs": [
    {
     "data": {
      "image/png": "[encoded data removed]",
      "text/plain": [
       "<Figure size 432x288 with 1 Axes>"
      ]
     },
     "metadata": {
      "needs_background": "light"
     },
     "output_type": "display_data"
    }
   ],
   "source": [
    "col = 'Age'\n",
    "\n",
    "#data[col] = data[col].clip(lower=data[col].quantile(0.25), upper=data[col].quantile(0.75))\n",
    "\n",
    "sns.boxplot(x=data[col],color='lightblue')\n",
    "plt.show()\n"
   ]
  },
  {
   "cell_type": "code",
   "execution_count": 11,
   "id": "4b1fcf2b",
   "metadata": {
    "execution": {
     "iopub.execute_input": "2022-04-30T19:01:51.553645Z",
     "iopub.status.busy": "2022-04-30T19:01:51.553266Z",
     "iopub.status.idle": "2022-04-30T19:01:51.718525Z",
     "shell.execute_reply": "2022-04-30T19:01:51.717634Z"
    },
    "papermill": {
     "duration": 0.223248,
     "end_time": "2022-04-30T19:01:51.720724",
     "exception": false,
     "start_time": "2022-04-30T19:01:51.497476",
     "status": "completed"
    },
    "tags": []
   },
   "outputs": [
    {
     "data": {
      "image/png": "[encoded data removed]",
      "text/plain": [
       "<Figure size 432x288 with 1 Axes>"
      ]
     },
     "metadata": {
      "needs_background": "light"
     },
     "output_type": "display_data"
    }
   ],
   "source": [
    "col = 'Miles'\n",
    "#data[col] = data[col].clip(lower=data[col].quantile(0.25), upper=data[col].quantile(0.75))\n",
    "\n",
    "sns.boxplot(x=data[col],color='lightblue')\n",
    "plt.show()\n"
   ]
  },
  {
   "cell_type": "code",
   "execution_count": 12,
   "id": "505de9a4",
   "metadata": {
    "execution": {
     "iopub.execute_input": "2022-04-30T19:01:51.832255Z",
     "iopub.status.busy": "2022-04-30T19:01:51.831910Z",
     "iopub.status.idle": "2022-04-30T19:01:51.999435Z",
     "shell.execute_reply": "2022-04-30T19:01:51.998762Z"
    },
    "papermill": {
     "duration": 0.226371,
     "end_time": "2022-04-30T19:01:52.002005",
     "exception": false,
     "start_time": "2022-04-30T19:01:51.775634",
     "status": "completed"
    },
    "tags": []
   },
   "outputs": [
    {
     "data": {
      "image/png": "[encoded data removed]",
      "text/plain": [
       "<Figure size 432x288 with 1 Axes>"
      ]
     },
     "metadata": {
      "needs_background": "light"
     },
     "output_type": "display_data"
    }
   ],
   "source": [
    "col = 'Income'\n",
    "#data[col] = data[col].clip(lower=data[col].quantile(0.25), upper=data[col].quantile(0.75))\n",
    "\n",
    "sns.boxplot(x=data[col],color='lightblue')\n",
    "plt.show()\n"
   ]
  },
  {
   "cell_type": "code",
   "execution_count": 13,
   "id": "460a579e",
   "metadata": {
    "execution": {
     "iopub.execute_input": "2022-04-30T19:01:52.117541Z",
     "iopub.status.busy": "2022-04-30T19:01:52.116598Z",
     "iopub.status.idle": "2022-04-30T19:01:52.132612Z",
     "shell.execute_reply": "2022-04-30T19:01:52.131598Z"
    },
    "papermill": {
     "duration": 0.076759,
     "end_time": "2022-04-30T19:01:52.135331",
     "exception": false,
     "start_time": "2022-04-30T19:01:52.058572",
     "status": "completed"
    },
    "tags": []
   },
   "outputs": [],
   "source": [
    "cols = ['Miles'] # one or more\n",
    "\n",
    "Q1 = data[cols].quantile(0.25)\n",
    "Q3 = data[cols].quantile(0.75)\n",
    "IQR = Q3 - Q1\n",
    "df = data[~((data[cols] < (Q1 - 1.5 * IQR)) |(data[cols] > (Q3 + 1.5 * IQR))).any(axis=1)]\n"
   ]
  },
  {
   "cell_type": "code",
   "execution_count": 14,
   "id": "faf36a29",
   "metadata": {
    "execution": {
     "iopub.execute_input": "2022-04-30T19:01:52.253167Z",
     "iopub.status.busy": "2022-04-30T19:01:52.252806Z",
     "iopub.status.idle": "2022-04-30T19:01:52.259151Z",
     "shell.execute_reply": "2022-04-30T19:01:52.258267Z"
    },
    "papermill": {
     "duration": 0.068994,
     "end_time": "2022-04-30T19:01:52.261604",
     "exception": false,
     "start_time": "2022-04-30T19:01:52.192610",
     "status": "completed"
    },
    "tags": []
   },
   "outputs": [
    {
     "data": {
      "text/plain": [
       "(167, 9)"
      ]
     },
     "execution_count": 14,
     "metadata": {},
     "output_type": "execute_result"
    }
   ],
   "source": [
    "df.shape"
   ]
  },
  {
   "cell_type": "markdown",
   "id": "bd9db71d",
   "metadata": {
    "papermill": {
     "duration": 0.056505,
     "end_time": "2022-04-30T19:01:52.376145",
     "exception": false,
     "start_time": "2022-04-30T19:01:52.319640",
     "status": "completed"
    },
    "tags": []
   },
   "source": [
    "<h3><b>Checking Categorical features</b></h3>"
   ]
  },
  {
   "cell_type": "code",
   "execution_count": 15,
   "id": "3f948bcb",
   "metadata": {
    "execution": {
     "iopub.execute_input": "2022-04-30T19:01:52.489874Z",
     "iopub.status.busy": "2022-04-30T19:01:52.489249Z",
     "iopub.status.idle": "2022-04-30T19:01:52.493227Z",
     "shell.execute_reply": "2022-04-30T19:01:52.492578Z"
    },
    "papermill": {
     "duration": 0.063322,
     "end_time": "2022-04-30T19:01:52.495227",
     "exception": false,
     "start_time": "2022-04-30T19:01:52.431905",
     "status": "completed"
    },
    "tags": []
   },
   "outputs": [],
   "source": [
    "cat_cols = ['Product' ,'Gender', 'Education', 'MaritalStatus', 'Usage', 'Fitness']"
   ]
  },
  {
   "cell_type": "code",
   "execution_count": 16,
   "id": "abcac6c6",
   "metadata": {
    "execution": {
     "iopub.execute_input": "2022-04-30T19:01:52.609377Z",
     "iopub.status.busy": "2022-04-30T19:01:52.608292Z",
     "iopub.status.idle": "2022-04-30T19:01:53.865193Z",
     "shell.execute_reply": "2022-04-30T19:01:53.864172Z"
    },
    "papermill": {
     "duration": 1.318453,
     "end_time": "2022-04-30T19:01:53.869702",
     "exception": false,
     "start_time": "2022-04-30T19:01:52.551249",
     "status": "completed"
    },
    "tags": []
   },
   "outputs": [
    {
     "data": {
      "image/png": "[encoded data removed]",
      "text/plain": [
       "<Figure size 432x288 with 1 Axes>"
      ]
     },
     "metadata": {
      "needs_background": "light"
     },
     "output_type": "display_data"
    },
    {
     "name": "stdout",
     "output_type": "stream",
     "text": [
      "\n",
      "\n"
     ]
    },
    {
     "data": {
      "image/png": "[encoded data removed]",
      "text/plain": [
       "<Figure size 432x288 with 1 Axes>"
      ]
     },
     "metadata": {
      "needs_background": "light"
     },
     "output_type": "display_data"
    },
    {
     "name": "stdout",
     "output_type": "stream",
     "text": [
      "\n",
      "\n"
     ]
    },
    {
     "data": {
      "image/png": "[encoded data removed]",
      "text/plain": [
       "<Figure size 432x288 with 1 Axes>"
      ]
     },
     "metadata": {
      "needs_background": "light"
     },
     "output_type": "display_data"
    },
    {
     "name": "stdout",
     "output_type": "stream",
     "text": [
      "\n",
      "\n"
     ]
    },
    {
     "data": {
      "image/png": "[encoded data removed]",
      "text/plain": [
       "<Figure size 432x288 with 1 Axes>"
      ]
     },
     "metadata": {
      "needs_background": "light"
     },
     "output_type": "display_data"
    },
    {
     "name": "stdout",
     "output_type": "stream",
     "text": [
      "\n",
      "\n"
     ]
    },
    {
     "data": {
      "image/png": "[encoded data removed]",
      "text/plain": [
       "<Figure size 432x288 with 1 Axes>"
      ]
     },
     "metadata": {
      "needs_background": "light"
     },
     "output_type": "display_data"
    },
    {
     "name": "stdout",
     "output_type": "stream",
     "text": [
      "\n",
      "\n"
     ]
    },
    {
     "data": {
      "image/png": "[encoded data removed]",
      "text/plain": [
       "<Figure size 432x288 with 1 Axes>"
      ]
     },
     "metadata": {
      "needs_background": "light"
     },
     "output_type": "display_data"
    },
    {
     "name": "stdout",
     "output_type": "stream",
     "text": [
      "\n",
      "\n"
     ]
    }
   ],
   "source": [
    "for i in cat_cols:\n",
    "    sns.countplot(data[i]).set(title=i)\n",
    "    plt.show()\n",
    "    print()\n",
    "    print()"
   ]
  },
  {
   "cell_type": "markdown",
   "id": "621a56e0",
   "metadata": {
    "papermill": {
     "duration": 0.062744,
     "end_time": "2022-04-30T19:01:53.998831",
     "exception": false,
     "start_time": "2022-04-30T19:01:53.936087",
     "status": "completed"
    },
    "tags": []
   },
   "source": [
    "<h3><b>Insights</b></h3>\n",
    "\n",
    "<div style=\"display:fill;\n",
    "           border-radius:5px;\n",
    "           background-color:#BDE6ED;\n",
    "           font-size:110%;\n",
    "           font-family:verdana;\n",
    "           letter-spacing:0.5px\">\n",
    "\n",
    "<p style=\"padding: 10px;\n",
    "              color:black;\"> \n",
    "    <ul>\n",
    "        <li> Product - Category A is more sold than others \n",
    "        <li> Gender - Males have bought more machines than Females\n",
    "        <li> Education - Category 14 and 16 bought most machines\n",
    "        <li> MaritalStatus - Parterned Customers have bought more machines than Single.\n",
    "        <li> Usage - Category 3 and 4 have bought more machines\n",
    "        <li> Fitness - People with Level 3 bought most machines    \n",
    "    </p>\n",
    "    </div>"
   ]
  },
  {
   "cell_type": "markdown",
   "id": "06e26879",
   "metadata": {
    "papermill": {
     "duration": 0.063148,
     "end_time": "2022-04-30T19:01:54.129076",
     "exception": false,
     "start_time": "2022-04-30T19:01:54.065928",
     "status": "completed"
    },
    "tags": []
   },
   "source": [
    "<div style=\"font-family:verdana; word-spacing:1.5px;\">\n",
    "   <h4> <p style=\"text-align:center;font-size:125%;padding: 10px;\"><b>Multivariate Analysis</b></p></h4>\n",
    "    </div>"
   ]
  },
  {
   "cell_type": "code",
   "execution_count": 17,
   "id": "07fcb66a",
   "metadata": {
    "execution": {
     "iopub.execute_input": "2022-04-30T19:01:54.265470Z",
     "iopub.status.busy": "2022-04-30T19:01:54.265116Z",
     "iopub.status.idle": "2022-04-30T19:01:54.272503Z",
     "shell.execute_reply": "2022-04-30T19:01:54.271400Z"
    },
    "papermill": {
     "duration": 0.076748,
     "end_time": "2022-04-30T19:01:54.274614",
     "exception": false,
     "start_time": "2022-04-30T19:01:54.197866",
     "status": "completed"
    },
    "tags": []
   },
   "outputs": [],
   "source": [
    "def create_contigency(col1,col2,data):\n",
    "    df = pd.crosstab(data[col1],data[col2], normalize='index')\n",
    "    print(\"Conditional Probability : P({}|{})\".format(col2,col1))\n",
    "    display(df)\n",
    "    \n",
    "    print()\n",
    "    print()\n",
    "    \n",
    "    df = pd.crosstab(data[col1],data[col2], normalize='columns')\n",
    "    print(\"Conditional Probability : P({}|{})\".format(col1,col2))\n",
    "    display(df)\n",
    "    \n",
    "    \n",
    "    df = pd.crosstab(data[col1],data[col2],margins=True)\n",
    "   \n",
    "    display(df)\n",
    "    \n",
    "    print()"
   ]
  },
  {
   "cell_type": "code",
   "execution_count": 18,
   "id": "d7845cdc",
   "metadata": {
    "execution": {
     "iopub.execute_input": "2022-04-30T19:01:54.404923Z",
     "iopub.status.busy": "2022-04-30T19:01:54.404266Z",
     "iopub.status.idle": "2022-04-30T19:01:54.628307Z",
     "shell.execute_reply": "2022-04-30T19:01:54.627297Z"
    },
    "papermill": {
     "duration": 0.291405,
     "end_time": "2022-04-30T19:01:54.630719",
     "exception": false,
     "start_time": "2022-04-30T19:01:54.339314",
     "status": "completed"
    },
    "tags": []
   },
   "outputs": [
    {
     "data": {
      "image/png": "[encoded data removed]",
      "text/plain": [
       "<Figure size 432x288 with 1 Axes>"
      ]
     },
     "metadata": {
      "needs_background": "light"
     },
     "output_type": "display_data"
    }
   ],
   "source": [
    "tmp = data[['MaritalStatus','Product']]\n",
    "tmp['count'] = 1\n",
    "tmp = tmp.groupby(['MaritalStatus','Product']).sum()['count'].reset_index()\n",
    "total = sum(tmp['count'])\n",
    "tmp['count'] = tmp['count']/total\n",
    "\n",
    "sns.barplot(data=tmp,hue='MaritalStatus',y='count',x='Product').set(title='Marital Status vs Product')\n",
    "plt.show()"
   ]
  },
  {
   "cell_type": "code",
   "execution_count": 19,
   "id": "36bf5e6e",
   "metadata": {
    "execution": {
     "iopub.execute_input": "2022-04-30T19:01:54.760983Z",
     "iopub.status.busy": "2022-04-30T19:01:54.760644Z",
     "iopub.status.idle": "2022-04-30T19:01:54.850370Z",
     "shell.execute_reply": "2022-04-30T19:01:54.849479Z"
    },
    "papermill": {
     "duration": 0.159311,
     "end_time": "2022-04-30T19:01:54.854091",
     "exception": false,
     "start_time": "2022-04-30T19:01:54.694780",
     "status": "completed"
    },
    "tags": []
   },
   "outputs": [
    {
     "name": "stdout",
     "output_type": "stream",
     "text": [
      "Contingency Table :\n",
      "\n",
      "Conditional Probability : P(Product|MaritalStatus)\n"
     ]
    },
    {
     "data": {
      "text/html": [
       "<div>\n",
       "<style scoped>\n",
       "    .dataframe tbody tr th:only-of-type {\n",
       "        vertical-align: middle;\n",
       "    }\n",
       "\n",
       "    .dataframe tbody tr th {\n",
       "        vertical-align: top;\n",
       "    }\n",
       "\n",
       "    .dataframe thead th {\n",
       "        text-align: right;\n",
       "    }\n",
       "</style>\n",
       "<table border=\"1\" class=\"dataframe\">\n",
       "  <thead>\n",
       "    <tr style=\"text-align: right;\">\n",
       "      <th>Product</th>\n",
       "      <th>A</th>\n",
       "      <th>B</th>\n",
       "      <th>C</th>\n",
       "    </tr>\n",
       "    <tr>\n",
       "      <th>MaritalStatus</th>\n",
       "      <th></th>\n",
       "      <th></th>\n",
       "      <th></th>\n",
       "    </tr>\n",
       "  </thead>\n",
       "  <tbody>\n",
       "    <tr>\n",
       "      <th>Partnered</th>\n",
       "      <td>0.448598</td>\n",
       "      <td>0.336449</td>\n",
       "      <td>0.214953</td>\n",
       "    </tr>\n",
       "    <tr>\n",
       "      <th>Single</th>\n",
       "      <td>0.438356</td>\n",
       "      <td>0.328767</td>\n",
       "      <td>0.232877</td>\n",
       "    </tr>\n",
       "  </tbody>\n",
       "</table>\n",
       "</div>"
      ],
      "text/plain": [
       "Product               A         B         C\n",
       "MaritalStatus                              \n",
       "Partnered      0.448598  0.336449  0.214953\n",
       "Single         0.438356  0.328767  0.232877"
      ]
     },
     "metadata": {},
     "output_type": "display_data"
    },
    {
     "name": "stdout",
     "output_type": "stream",
     "text": [
      "\n",
      "\n",
      "Conditional Probability : P(MaritalStatus|Product)\n"
     ]
    },
    {
     "data": {
      "text/html": [
       "<div>\n",
       "<style scoped>\n",
       "    .dataframe tbody tr th:only-of-type {\n",
       "        vertical-align: middle;\n",
       "    }\n",
       "\n",
       "    .dataframe tbody tr th {\n",
       "        vertical-align: top;\n",
       "    }\n",
       "\n",
       "    .dataframe thead th {\n",
       "        text-align: right;\n",
       "    }\n",
       "</style>\n",
       "<table border=\"1\" class=\"dataframe\">\n",
       "  <thead>\n",
       "    <tr style=\"text-align: right;\">\n",
       "      <th>Product</th>\n",
       "      <th>A</th>\n",
       "      <th>B</th>\n",
       "      <th>C</th>\n",
       "    </tr>\n",
       "    <tr>\n",
       "      <th>MaritalStatus</th>\n",
       "      <th></th>\n",
       "      <th></th>\n",
       "      <th></th>\n",
       "    </tr>\n",
       "  </thead>\n",
       "  <tbody>\n",
       "    <tr>\n",
       "      <th>Partnered</th>\n",
       "      <td>0.6</td>\n",
       "      <td>0.6</td>\n",
       "      <td>0.575</td>\n",
       "    </tr>\n",
       "    <tr>\n",
       "      <th>Single</th>\n",
       "      <td>0.4</td>\n",
       "      <td>0.4</td>\n",
       "      <td>0.425</td>\n",
       "    </tr>\n",
       "  </tbody>\n",
       "</table>\n",
       "</div>"
      ],
      "text/plain": [
       "Product          A    B      C\n",
       "MaritalStatus                 \n",
       "Partnered      0.6  0.6  0.575\n",
       "Single         0.4  0.4  0.425"
      ]
     },
     "metadata": {},
     "output_type": "display_data"
    },
    {
     "data": {
      "text/html": [
       "<div>\n",
       "<style scoped>\n",
       "    .dataframe tbody tr th:only-of-type {\n",
       "        vertical-align: middle;\n",
       "    }\n",
       "\n",
       "    .dataframe tbody tr th {\n",
       "        vertical-align: top;\n",
       "    }\n",
       "\n",
       "    .dataframe thead th {\n",
       "        text-align: right;\n",
       "    }\n",
       "</style>\n",
       "<table border=\"1\" class=\"dataframe\">\n",
       "  <thead>\n",
       "    <tr style=\"text-align: right;\">\n",
       "      <th>Product</th>\n",
       "      <th>A</th>\n",
       "      <th>B</th>\n",
       "      <th>C</th>\n",
       "      <th>All</th>\n",
       "    </tr>\n",
       "    <tr>\n",
       "      <th>MaritalStatus</th>\n",
       "      <th></th>\n",
       "      <th></th>\n",
       "      <th></th>\n",
       "      <th></th>\n",
       "    </tr>\n",
       "  </thead>\n",
       "  <tbody>\n",
       "    <tr>\n",
       "      <th>Partnered</th>\n",
       "      <td>48</td>\n",
       "      <td>36</td>\n",
       "      <td>23</td>\n",
       "      <td>107</td>\n",
       "    </tr>\n",
       "    <tr>\n",
       "      <th>Single</th>\n",
       "      <td>32</td>\n",
       "      <td>24</td>\n",
       "      <td>17</td>\n",
       "      <td>73</td>\n",
       "    </tr>\n",
       "    <tr>\n",
       "      <th>All</th>\n",
       "      <td>80</td>\n",
       "      <td>60</td>\n",
       "      <td>40</td>\n",
       "      <td>180</td>\n",
       "    </tr>\n",
       "  </tbody>\n",
       "</table>\n",
       "</div>"
      ],
      "text/plain": [
       "Product         A   B   C  All\n",
       "MaritalStatus                 \n",
       "Partnered      48  36  23  107\n",
       "Single         32  24  17   73\n",
       "All            80  60  40  180"
      ]
     },
     "metadata": {},
     "output_type": "display_data"
    },
    {
     "name": "stdout",
     "output_type": "stream",
     "text": [
      "\n"
     ]
    }
   ],
   "source": [
    "print(\"Contingency Table :\")\n",
    "print()\n",
    "create_contigency('MaritalStatus','Product',data)"
   ]
  },
  {
   "cell_type": "code",
   "execution_count": 20,
   "id": "ec0ddff1",
   "metadata": {
    "execution": {
     "iopub.execute_input": "2022-04-30T19:01:54.989977Z",
     "iopub.status.busy": "2022-04-30T19:01:54.989606Z",
     "iopub.status.idle": "2022-04-30T19:01:55.242741Z",
     "shell.execute_reply": "2022-04-30T19:01:55.241633Z"
    },
    "papermill": {
     "duration": 0.325983,
     "end_time": "2022-04-30T19:01:55.246926",
     "exception": false,
     "start_time": "2022-04-30T19:01:54.920943",
     "status": "completed"
    },
    "tags": []
   },
   "outputs": [
    {
     "data": {
      "image/png": "[encoded data removed]",
      "text/plain": [
       "<Figure size 432x288 with 1 Axes>"
      ]
     },
     "metadata": {
      "needs_background": "light"
     },
     "output_type": "display_data"
    }
   ],
   "source": [
    "tmp = data[['Gender','Product']]\n",
    "tmp['count'] = 1\n",
    "tmp = tmp.groupby(['Gender','Product']).sum()['count'].reset_index()\n",
    "total = sum(tmp['count'])\n",
    "tmp['count'] = tmp['count']/total\n",
    "\n",
    "sns.barplot(data=tmp,x='Gender',y='count',hue='Product').set(title='Gender vs Product')\n",
    "plt.show()"
   ]
  },
  {
   "cell_type": "code",
   "execution_count": 21,
   "id": "10a06c44",
   "metadata": {
    "execution": {
     "iopub.execute_input": "2022-04-30T19:01:55.407769Z",
     "iopub.status.busy": "2022-04-30T19:01:55.406815Z",
     "iopub.status.idle": "2022-04-30T19:01:55.491829Z",
     "shell.execute_reply": "2022-04-30T19:01:55.490963Z"
    },
    "papermill": {
     "duration": 0.165537,
     "end_time": "2022-04-30T19:01:55.495812",
     "exception": false,
     "start_time": "2022-04-30T19:01:55.330275",
     "status": "completed"
    },
    "tags": []
   },
   "outputs": [
    {
     "name": "stdout",
     "output_type": "stream",
     "text": [
      "Contingency Table :\n",
      "\n",
      "Conditional Probability : P(Product|Gender)\n"
     ]
    },
    {
     "data": {
      "text/html": [
       "<div>\n",
       "<style scoped>\n",
       "    .dataframe tbody tr th:only-of-type {\n",
       "        vertical-align: middle;\n",
       "    }\n",
       "\n",
       "    .dataframe tbody tr th {\n",
       "        vertical-align: top;\n",
       "    }\n",
       "\n",
       "    .dataframe thead th {\n",
       "        text-align: right;\n",
       "    }\n",
       "</style>\n",
       "<table border=\"1\" class=\"dataframe\">\n",
       "  <thead>\n",
       "    <tr style=\"text-align: right;\">\n",
       "      <th>Product</th>\n",
       "      <th>A</th>\n",
       "      <th>B</th>\n",
       "      <th>C</th>\n",
       "    </tr>\n",
       "    <tr>\n",
       "      <th>Gender</th>\n",
       "      <th></th>\n",
       "      <th></th>\n",
       "      <th></th>\n",
       "    </tr>\n",
       "  </thead>\n",
       "  <tbody>\n",
       "    <tr>\n",
       "      <th>Female</th>\n",
       "      <td>0.526316</td>\n",
       "      <td>0.381579</td>\n",
       "      <td>0.092105</td>\n",
       "    </tr>\n",
       "    <tr>\n",
       "      <th>Male</th>\n",
       "      <td>0.384615</td>\n",
       "      <td>0.298077</td>\n",
       "      <td>0.317308</td>\n",
       "    </tr>\n",
       "  </tbody>\n",
       "</table>\n",
       "</div>"
      ],
      "text/plain": [
       "Product         A         B         C\n",
       "Gender                               \n",
       "Female   0.526316  0.381579  0.092105\n",
       "Male     0.384615  0.298077  0.317308"
      ]
     },
     "metadata": {},
     "output_type": "display_data"
    },
    {
     "name": "stdout",
     "output_type": "stream",
     "text": [
      "\n",
      "\n",
      "Conditional Probability : P(Gender|Product)\n"
     ]
    },
    {
     "data": {
      "text/html": [
       "<div>\n",
       "<style scoped>\n",
       "    .dataframe tbody tr th:only-of-type {\n",
       "        vertical-align: middle;\n",
       "    }\n",
       "\n",
       "    .dataframe tbody tr th {\n",
       "        vertical-align: top;\n",
       "    }\n",
       "\n",
       "    .dataframe thead th {\n",
       "        text-align: right;\n",
       "    }\n",
       "</style>\n",
       "<table border=\"1\" class=\"dataframe\">\n",
       "  <thead>\n",
       "    <tr style=\"text-align: right;\">\n",
       "      <th>Product</th>\n",
       "      <th>A</th>\n",
       "      <th>B</th>\n",
       "      <th>C</th>\n",
       "    </tr>\n",
       "    <tr>\n",
       "      <th>Gender</th>\n",
       "      <th></th>\n",
       "      <th></th>\n",
       "      <th></th>\n",
       "    </tr>\n",
       "  </thead>\n",
       "  <tbody>\n",
       "    <tr>\n",
       "      <th>Female</th>\n",
       "      <td>0.5</td>\n",
       "      <td>0.483333</td>\n",
       "      <td>0.175</td>\n",
       "    </tr>\n",
       "    <tr>\n",
       "      <th>Male</th>\n",
       "      <td>0.5</td>\n",
       "      <td>0.516667</td>\n",
       "      <td>0.825</td>\n",
       "    </tr>\n",
       "  </tbody>\n",
       "</table>\n",
       "</div>"
      ],
      "text/plain": [
       "Product    A         B      C\n",
       "Gender                       \n",
       "Female   0.5  0.483333  0.175\n",
       "Male     0.5  0.516667  0.825"
      ]
     },
     "metadata": {},
     "output_type": "display_data"
    },
    {
     "data": {
      "text/html": [
       "<div>\n",
       "<style scoped>\n",
       "    .dataframe tbody tr th:only-of-type {\n",
       "        vertical-align: middle;\n",
       "    }\n",
       "\n",
       "    .dataframe tbody tr th {\n",
       "        vertical-align: top;\n",
       "    }\n",
       "\n",
       "    .dataframe thead th {\n",
       "        text-align: right;\n",
       "    }\n",
       "</style>\n",
       "<table border=\"1\" class=\"dataframe\">\n",
       "  <thead>\n",
       "    <tr style=\"text-align: right;\">\n",
       "      <th>Product</th>\n",
       "      <th>A</th>\n",
       "      <th>B</th>\n",
       "      <th>C</th>\n",
       "      <th>All</th>\n",
       "    </tr>\n",
       "    <tr>\n",
       "      <th>Gender</th>\n",
       "      <th></th>\n",
       "      <th></th>\n",
       "      <th></th>\n",
       "      <th></th>\n",
       "    </tr>\n",
       "  </thead>\n",
       "  <tbody>\n",
       "    <tr>\n",
       "      <th>Female</th>\n",
       "      <td>40</td>\n",
       "      <td>29</td>\n",
       "      <td>7</td>\n",
       "      <td>76</td>\n",
       "    </tr>\n",
       "    <tr>\n",
       "      <th>Male</th>\n",
       "      <td>40</td>\n",
       "      <td>31</td>\n",
       "      <td>33</td>\n",
       "      <td>104</td>\n",
       "    </tr>\n",
       "    <tr>\n",
       "      <th>All</th>\n",
       "      <td>80</td>\n",
       "      <td>60</td>\n",
       "      <td>40</td>\n",
       "      <td>180</td>\n",
       "    </tr>\n",
       "  </tbody>\n",
       "</table>\n",
       "</div>"
      ],
      "text/plain": [
       "Product   A   B   C  All\n",
       "Gender                  \n",
       "Female   40  29   7   76\n",
       "Male     40  31  33  104\n",
       "All      80  60  40  180"
      ]
     },
     "metadata": {},
     "output_type": "display_data"
    },
    {
     "name": "stdout",
     "output_type": "stream",
     "text": [
      "\n"
     ]
    }
   ],
   "source": [
    "print(\"Contingency Table :\")\n",
    "print()\n",
    "create_contigency('Gender','Product',data)"
   ]
  },
  {
   "cell_type": "code",
   "execution_count": 22,
   "id": "141dcac8",
   "metadata": {
    "execution": {
     "iopub.execute_input": "2022-04-30T19:01:55.640927Z",
     "iopub.status.busy": "2022-04-30T19:01:55.640595Z",
     "iopub.status.idle": "2022-04-30T19:01:55.828609Z",
     "shell.execute_reply": "2022-04-30T19:01:55.827680Z"
    },
    "papermill": {
     "duration": 0.263548,
     "end_time": "2022-04-30T19:01:55.830901",
     "exception": false,
     "start_time": "2022-04-30T19:01:55.567353",
     "status": "completed"
    },
    "tags": []
   },
   "outputs": [
    {
     "data": {
      "image/png": "[encoded data removed]",
      "text/plain": [
       "<Figure size 432x288 with 1 Axes>"
      ]
     },
     "metadata": {
      "needs_background": "light"
     },
     "output_type": "display_data"
    }
   ],
   "source": [
    "cols = ['MaritalStatus','Gender']\n",
    "tmp = data[cols]\n",
    "\n",
    "name = \"-\".join(cols)\n",
    "tmp[name] = tmp['MaritalStatus'] + '-' + tmp['Gender']\n",
    "\n",
    "sns.countplot(data=tmp,x=name).set(title=name)\n",
    "plt.show()"
   ]
  },
  {
   "cell_type": "code",
   "execution_count": 23,
   "id": "0049719b",
   "metadata": {
    "execution": {
     "iopub.execute_input": "2022-04-30T19:01:55.975749Z",
     "iopub.status.busy": "2022-04-30T19:01:55.975280Z",
     "iopub.status.idle": "2022-04-30T19:01:56.244393Z",
     "shell.execute_reply": "2022-04-30T19:01:56.243352Z"
    },
    "papermill": {
     "duration": 0.344719,
     "end_time": "2022-04-30T19:01:56.247236",
     "exception": false,
     "start_time": "2022-04-30T19:01:55.902517",
     "status": "completed"
    },
    "tags": []
   },
   "outputs": [
    {
     "data": {
      "image/png": "[encoded data removed]",
      "text/plain": [
       "<Figure size 432x288 with 1 Axes>"
      ]
     },
     "metadata": {
      "needs_background": "light"
     },
     "output_type": "display_data"
    }
   ],
   "source": [
    "cols = ['MaritalStatus','Gender']\n",
    "\n",
    "\n",
    "\n",
    "tmp = data[cols+['Product']]\n",
    "\n",
    "name = \"-\".join(cols)\n",
    "\n",
    "tmp[name] = tmp['MaritalStatus'] + '-' + tmp['Gender']\n",
    "tmppk = tmp.copy()\n",
    "tmp['count'] = 1\n",
    "tmp = tmp.groupby([name,'Product']).count()['count'].reset_index()\n",
    "tmp\n",
    "sns.barplot(data=tmp,x=name,hue='Product',y='count').set(title=name +' vs Product')\n",
    "plt.show()"
   ]
  },
  {
   "cell_type": "code",
   "execution_count": 24,
   "id": "ccf3f359",
   "metadata": {
    "execution": {
     "iopub.execute_input": "2022-04-30T19:01:56.398936Z",
     "iopub.status.busy": "2022-04-30T19:01:56.398009Z",
     "iopub.status.idle": "2022-04-30T19:01:56.480419Z",
     "shell.execute_reply": "2022-04-30T19:01:56.479514Z"
    },
    "papermill": {
     "duration": 0.163388,
     "end_time": "2022-04-30T19:01:56.484235",
     "exception": false,
     "start_time": "2022-04-30T19:01:56.320847",
     "status": "completed"
    },
    "tags": []
   },
   "outputs": [
    {
     "name": "stdout",
     "output_type": "stream",
     "text": [
      "Contingency Table :\n",
      "Conditional Probability : P(Product|MaritalStatus-Gender)\n"
     ]
    },
    {
     "data": {
      "text/html": [
       "<div>\n",
       "<style scoped>\n",
       "    .dataframe tbody tr th:only-of-type {\n",
       "        vertical-align: middle;\n",
       "    }\n",
       "\n",
       "    .dataframe tbody tr th {\n",
       "        vertical-align: top;\n",
       "    }\n",
       "\n",
       "    .dataframe thead th {\n",
       "        text-align: right;\n",
       "    }\n",
       "</style>\n",
       "<table border=\"1\" class=\"dataframe\">\n",
       "  <thead>\n",
       "    <tr style=\"text-align: right;\">\n",
       "      <th>Product</th>\n",
       "      <th>A</th>\n",
       "      <th>B</th>\n",
       "      <th>C</th>\n",
       "    </tr>\n",
       "    <tr>\n",
       "      <th>MaritalStatus-Gender</th>\n",
       "      <th></th>\n",
       "      <th></th>\n",
       "      <th></th>\n",
       "    </tr>\n",
       "  </thead>\n",
       "  <tbody>\n",
       "    <tr>\n",
       "      <th>Partnered-Female</th>\n",
       "      <td>0.586957</td>\n",
       "      <td>0.326087</td>\n",
       "      <td>0.086957</td>\n",
       "    </tr>\n",
       "    <tr>\n",
       "      <th>Partnered-Male</th>\n",
       "      <td>0.344262</td>\n",
       "      <td>0.344262</td>\n",
       "      <td>0.311475</td>\n",
       "    </tr>\n",
       "    <tr>\n",
       "      <th>Single-Female</th>\n",
       "      <td>0.433333</td>\n",
       "      <td>0.466667</td>\n",
       "      <td>0.100000</td>\n",
       "    </tr>\n",
       "    <tr>\n",
       "      <th>Single-Male</th>\n",
       "      <td>0.441860</td>\n",
       "      <td>0.232558</td>\n",
       "      <td>0.325581</td>\n",
       "    </tr>\n",
       "  </tbody>\n",
       "</table>\n",
       "</div>"
      ],
      "text/plain": [
       "Product                      A         B         C\n",
       "MaritalStatus-Gender                              \n",
       "Partnered-Female      0.586957  0.326087  0.086957\n",
       "Partnered-Male        0.344262  0.344262  0.311475\n",
       "Single-Female         0.433333  0.466667  0.100000\n",
       "Single-Male           0.441860  0.232558  0.325581"
      ]
     },
     "metadata": {},
     "output_type": "display_data"
    },
    {
     "name": "stdout",
     "output_type": "stream",
     "text": [
      "\n",
      "\n",
      "Conditional Probability : P(MaritalStatus-Gender|Product)\n"
     ]
    },
    {
     "data": {
      "text/html": [
       "<div>\n",
       "<style scoped>\n",
       "    .dataframe tbody tr th:only-of-type {\n",
       "        vertical-align: middle;\n",
       "    }\n",
       "\n",
       "    .dataframe tbody tr th {\n",
       "        vertical-align: top;\n",
       "    }\n",
       "\n",
       "    .dataframe thead th {\n",
       "        text-align: right;\n",
       "    }\n",
       "</style>\n",
       "<table border=\"1\" class=\"dataframe\">\n",
       "  <thead>\n",
       "    <tr style=\"text-align: right;\">\n",
       "      <th>Product</th>\n",
       "      <th>A</th>\n",
       "      <th>B</th>\n",
       "      <th>C</th>\n",
       "    </tr>\n",
       "    <tr>\n",
       "      <th>MaritalStatus-Gender</th>\n",
       "      <th></th>\n",
       "      <th></th>\n",
       "      <th></th>\n",
       "    </tr>\n",
       "  </thead>\n",
       "  <tbody>\n",
       "    <tr>\n",
       "      <th>Partnered-Female</th>\n",
       "      <td>0.3375</td>\n",
       "      <td>0.250000</td>\n",
       "      <td>0.100</td>\n",
       "    </tr>\n",
       "    <tr>\n",
       "      <th>Partnered-Male</th>\n",
       "      <td>0.2625</td>\n",
       "      <td>0.350000</td>\n",
       "      <td>0.475</td>\n",
       "    </tr>\n",
       "    <tr>\n",
       "      <th>Single-Female</th>\n",
       "      <td>0.1625</td>\n",
       "      <td>0.233333</td>\n",
       "      <td>0.075</td>\n",
       "    </tr>\n",
       "    <tr>\n",
       "      <th>Single-Male</th>\n",
       "      <td>0.2375</td>\n",
       "      <td>0.166667</td>\n",
       "      <td>0.350</td>\n",
       "    </tr>\n",
       "  </tbody>\n",
       "</table>\n",
       "</div>"
      ],
      "text/plain": [
       "Product                    A         B      C\n",
       "MaritalStatus-Gender                         \n",
       "Partnered-Female      0.3375  0.250000  0.100\n",
       "Partnered-Male        0.2625  0.350000  0.475\n",
       "Single-Female         0.1625  0.233333  0.075\n",
       "Single-Male           0.2375  0.166667  0.350"
      ]
     },
     "metadata": {},
     "output_type": "display_data"
    },
    {
     "data": {
      "text/html": [
       "<div>\n",
       "<style scoped>\n",
       "    .dataframe tbody tr th:only-of-type {\n",
       "        vertical-align: middle;\n",
       "    }\n",
       "\n",
       "    .dataframe tbody tr th {\n",
       "        vertical-align: top;\n",
       "    }\n",
       "\n",
       "    .dataframe thead th {\n",
       "        text-align: right;\n",
       "    }\n",
       "</style>\n",
       "<table border=\"1\" class=\"dataframe\">\n",
       "  <thead>\n",
       "    <tr style=\"text-align: right;\">\n",
       "      <th>Product</th>\n",
       "      <th>A</th>\n",
       "      <th>B</th>\n",
       "      <th>C</th>\n",
       "      <th>All</th>\n",
       "    </tr>\n",
       "    <tr>\n",
       "      <th>MaritalStatus-Gender</th>\n",
       "      <th></th>\n",
       "      <th></th>\n",
       "      <th></th>\n",
       "      <th></th>\n",
       "    </tr>\n",
       "  </thead>\n",
       "  <tbody>\n",
       "    <tr>\n",
       "      <th>Partnered-Female</th>\n",
       "      <td>27</td>\n",
       "      <td>15</td>\n",
       "      <td>4</td>\n",
       "      <td>46</td>\n",
       "    </tr>\n",
       "    <tr>\n",
       "      <th>Partnered-Male</th>\n",
       "      <td>21</td>\n",
       "      <td>21</td>\n",
       "      <td>19</td>\n",
       "      <td>61</td>\n",
       "    </tr>\n",
       "    <tr>\n",
       "      <th>Single-Female</th>\n",
       "      <td>13</td>\n",
       "      <td>14</td>\n",
       "      <td>3</td>\n",
       "      <td>30</td>\n",
       "    </tr>\n",
       "    <tr>\n",
       "      <th>Single-Male</th>\n",
       "      <td>19</td>\n",
       "      <td>10</td>\n",
       "      <td>14</td>\n",
       "      <td>43</td>\n",
       "    </tr>\n",
       "    <tr>\n",
       "      <th>All</th>\n",
       "      <td>80</td>\n",
       "      <td>60</td>\n",
       "      <td>40</td>\n",
       "      <td>180</td>\n",
       "    </tr>\n",
       "  </tbody>\n",
       "</table>\n",
       "</div>"
      ],
      "text/plain": [
       "Product                A   B   C  All\n",
       "MaritalStatus-Gender                 \n",
       "Partnered-Female      27  15   4   46\n",
       "Partnered-Male        21  21  19   61\n",
       "Single-Female         13  14   3   30\n",
       "Single-Male           19  10  14   43\n",
       "All                   80  60  40  180"
      ]
     },
     "metadata": {},
     "output_type": "display_data"
    },
    {
     "name": "stdout",
     "output_type": "stream",
     "text": [
      "\n"
     ]
    }
   ],
   "source": [
    "print(\"Contingency Table :\")\n",
    "create_contigency('MaritalStatus-Gender','Product',tmppk)"
   ]
  },
  {
   "cell_type": "code",
   "execution_count": 25,
   "id": "2ea4d31f",
   "metadata": {
    "execution": {
     "iopub.execute_input": "2022-04-30T19:01:56.639874Z",
     "iopub.status.busy": "2022-04-30T19:01:56.638964Z",
     "iopub.status.idle": "2022-04-30T19:01:56.924475Z",
     "shell.execute_reply": "2022-04-30T19:01:56.923742Z"
    },
    "papermill": {
     "duration": 0.366643,
     "end_time": "2022-04-30T19:01:56.926614",
     "exception": false,
     "start_time": "2022-04-30T19:01:56.559971",
     "status": "completed"
    },
    "tags": []
   },
   "outputs": [
    {
     "data": {
      "image/png": "[encoded data removed]",
      "text/plain": [
       "<Figure size 432x288 with 1 Axes>"
      ]
     },
     "metadata": {
      "needs_background": "light"
     },
     "output_type": "display_data"
    }
   ],
   "source": [
    "cols = ['MaritalStatus','Gender']\n",
    "\n",
    "name = \"-\".join(cols)\n",
    "\n",
    "\n",
    "tmp = data[cols+['Product','Income']]\n",
    "tmp[name] = tmp['MaritalStatus'] + '-' + tmp['Gender']\n",
    "\n",
    "tmp = tmp.groupby([name,'Product']).mean()['Income'].reset_index()\n",
    "\n",
    "sns.barplot(data=tmp,x=name,hue='Product',y='Income').set(title=name +' vs Income')\n",
    "plt.show()"
   ]
  },
  {
   "cell_type": "code",
   "execution_count": 26,
   "id": "cd91a644",
   "metadata": {
    "execution": {
     "iopub.execute_input": "2022-04-30T19:01:57.083555Z",
     "iopub.status.busy": "2022-04-30T19:01:57.083040Z",
     "iopub.status.idle": "2022-04-30T19:01:57.414248Z",
     "shell.execute_reply": "2022-04-30T19:01:57.413640Z"
    },
    "papermill": {
     "duration": 0.412862,
     "end_time": "2022-04-30T19:01:57.416251",
     "exception": false,
     "start_time": "2022-04-30T19:01:57.003389",
     "status": "completed"
    },
    "tags": []
   },
   "outputs": [
    {
     "data": {
      "text/plain": [
       "<AxesSubplot:xlabel='Age_grp', ylabel='count'>"
      ]
     },
     "execution_count": 26,
     "metadata": {},
     "output_type": "execute_result"
    },
    {
     "data": {
      "image/png": "[encoded data removed]",
      "text/plain": [
       "<Figure size 432x288 with 1 Axes>"
      ]
     },
     "metadata": {
      "needs_background": "light"
     },
     "output_type": "display_data"
    }
   ],
   "source": [
    "col = 'Age'\n",
    "\n",
    "est = KBinsDiscretizer(n_bins=5, encode='ordinal',strategy=\"uniform\")\n",
    "est.fit(data[col].values.reshape(-1, 1))\n",
    "\n",
    "Xt = est.transform(data[col].values.reshape(-1, 1))\n",
    "data[col+'_grp'] = Xt\n",
    "data[col+'_grp'] = data[col+'_grp'].astype(int)\n",
    "grps = list(est.bin_edges_[0])\n",
    "mapping = {}\n",
    "for i in range(1,len(grps)):\n",
    "    mapping[i] = str(int(grps[i-1])) + '-' + str(int(grps[i]))\n",
    "    \n",
    "data[col+'_grp'] = data[col+'_grp'].replace(mapping)\n",
    "\n",
    "tmp = data[['Product',col+'_grp']]\n",
    "tmmppk = tmp.copy()\n",
    "tmp['count'] = 1\n",
    "tmp = tmp.groupby(['Product',col+'_grp']).sum()['count'].reset_index()\n",
    "total = sum(tmp['count'])\n",
    "tmp['count'] = tmp['count']/total\n",
    "\n",
    "sns.barplot(data=tmp,hue='Product',y='count',x=col+'_grp')"
   ]
  },
  {
   "cell_type": "code",
   "execution_count": 27,
   "id": "f6874e73",
   "metadata": {
    "execution": {
     "iopub.execute_input": "2022-04-30T19:01:57.574961Z",
     "iopub.status.busy": "2022-04-30T19:01:57.573869Z",
     "iopub.status.idle": "2022-04-30T19:01:57.653840Z",
     "shell.execute_reply": "2022-04-30T19:01:57.652974Z"
    },
    "papermill": {
     "duration": 0.163793,
     "end_time": "2022-04-30T19:01:57.658052",
     "exception": false,
     "start_time": "2022-04-30T19:01:57.494259",
     "status": "completed"
    },
    "tags": []
   },
   "outputs": [
    {
     "name": "stdout",
     "output_type": "stream",
     "text": [
      "Contingency Table :\n",
      "Conditional Probability : P(Product|Age_grp)\n"
     ]
    },
    {
     "data": {
      "text/html": [
       "<div>\n",
       "<style scoped>\n",
       "    .dataframe tbody tr th:only-of-type {\n",
       "        vertical-align: middle;\n",
       "    }\n",
       "\n",
       "    .dataframe tbody tr th {\n",
       "        vertical-align: top;\n",
       "    }\n",
       "\n",
       "    .dataframe thead th {\n",
       "        text-align: right;\n",
       "    }\n",
       "</style>\n",
       "<table border=\"1\" class=\"dataframe\">\n",
       "  <thead>\n",
       "    <tr style=\"text-align: right;\">\n",
       "      <th>Product</th>\n",
       "      <th>A</th>\n",
       "      <th>B</th>\n",
       "      <th>C</th>\n",
       "    </tr>\n",
       "    <tr>\n",
       "      <th>Age_grp</th>\n",
       "      <th></th>\n",
       "      <th></th>\n",
       "      <th></th>\n",
       "    </tr>\n",
       "  </thead>\n",
       "  <tbody>\n",
       "    <tr>\n",
       "      <th>0</th>\n",
       "      <td>0.500000</td>\n",
       "      <td>0.314815</td>\n",
       "      <td>0.185185</td>\n",
       "    </tr>\n",
       "    <tr>\n",
       "      <th>18-24</th>\n",
       "      <td>0.424242</td>\n",
       "      <td>0.272727</td>\n",
       "      <td>0.303030</td>\n",
       "    </tr>\n",
       "    <tr>\n",
       "      <th>24-30</th>\n",
       "      <td>0.371429</td>\n",
       "      <td>0.514286</td>\n",
       "      <td>0.114286</td>\n",
       "    </tr>\n",
       "    <tr>\n",
       "      <th>30-37</th>\n",
       "      <td>0.500000</td>\n",
       "      <td>0.312500</td>\n",
       "      <td>0.187500</td>\n",
       "    </tr>\n",
       "    <tr>\n",
       "      <th>37-43</th>\n",
       "      <td>0.444444</td>\n",
       "      <td>0.222222</td>\n",
       "      <td>0.333333</td>\n",
       "    </tr>\n",
       "  </tbody>\n",
       "</table>\n",
       "</div>"
      ],
      "text/plain": [
       "Product         A         B         C\n",
       "Age_grp                              \n",
       "0        0.500000  0.314815  0.185185\n",
       "18-24    0.424242  0.272727  0.303030\n",
       "24-30    0.371429  0.514286  0.114286\n",
       "30-37    0.500000  0.312500  0.187500\n",
       "37-43    0.444444  0.222222  0.333333"
      ]
     },
     "metadata": {},
     "output_type": "display_data"
    },
    {
     "name": "stdout",
     "output_type": "stream",
     "text": [
      "\n",
      "\n",
      "Conditional Probability : P(Age_grp|Product)\n"
     ]
    },
    {
     "data": {
      "text/html": [
       "<div>\n",
       "<style scoped>\n",
       "    .dataframe tbody tr th:only-of-type {\n",
       "        vertical-align: middle;\n",
       "    }\n",
       "\n",
       "    .dataframe tbody tr th {\n",
       "        vertical-align: top;\n",
       "    }\n",
       "\n",
       "    .dataframe thead th {\n",
       "        text-align: right;\n",
       "    }\n",
       "</style>\n",
       "<table border=\"1\" class=\"dataframe\">\n",
       "  <thead>\n",
       "    <tr style=\"text-align: right;\">\n",
       "      <th>Product</th>\n",
       "      <th>A</th>\n",
       "      <th>B</th>\n",
       "      <th>C</th>\n",
       "    </tr>\n",
       "    <tr>\n",
       "      <th>Age_grp</th>\n",
       "      <th></th>\n",
       "      <th></th>\n",
       "      <th></th>\n",
       "    </tr>\n",
       "  </thead>\n",
       "  <tbody>\n",
       "    <tr>\n",
       "      <th>0</th>\n",
       "      <td>0.3375</td>\n",
       "      <td>0.283333</td>\n",
       "      <td>0.250</td>\n",
       "    </tr>\n",
       "    <tr>\n",
       "      <th>18-24</th>\n",
       "      <td>0.3500</td>\n",
       "      <td>0.300000</td>\n",
       "      <td>0.500</td>\n",
       "    </tr>\n",
       "    <tr>\n",
       "      <th>24-30</th>\n",
       "      <td>0.1625</td>\n",
       "      <td>0.300000</td>\n",
       "      <td>0.100</td>\n",
       "    </tr>\n",
       "    <tr>\n",
       "      <th>30-37</th>\n",
       "      <td>0.1000</td>\n",
       "      <td>0.083333</td>\n",
       "      <td>0.075</td>\n",
       "    </tr>\n",
       "    <tr>\n",
       "      <th>37-43</th>\n",
       "      <td>0.0500</td>\n",
       "      <td>0.033333</td>\n",
       "      <td>0.075</td>\n",
       "    </tr>\n",
       "  </tbody>\n",
       "</table>\n",
       "</div>"
      ],
      "text/plain": [
       "Product       A         B      C\n",
       "Age_grp                         \n",
       "0        0.3375  0.283333  0.250\n",
       "18-24    0.3500  0.300000  0.500\n",
       "24-30    0.1625  0.300000  0.100\n",
       "30-37    0.1000  0.083333  0.075\n",
       "37-43    0.0500  0.033333  0.075"
      ]
     },
     "metadata": {},
     "output_type": "display_data"
    },
    {
     "data": {
      "text/html": [
       "<div>\n",
       "<style scoped>\n",
       "    .dataframe tbody tr th:only-of-type {\n",
       "        vertical-align: middle;\n",
       "    }\n",
       "\n",
       "    .dataframe tbody tr th {\n",
       "        vertical-align: top;\n",
       "    }\n",
       "\n",
       "    .dataframe thead th {\n",
       "        text-align: right;\n",
       "    }\n",
       "</style>\n",
       "<table border=\"1\" class=\"dataframe\">\n",
       "  <thead>\n",
       "    <tr style=\"text-align: right;\">\n",
       "      <th>Product</th>\n",
       "      <th>A</th>\n",
       "      <th>B</th>\n",
       "      <th>C</th>\n",
       "      <th>All</th>\n",
       "    </tr>\n",
       "    <tr>\n",
       "      <th>Age_grp</th>\n",
       "      <th></th>\n",
       "      <th></th>\n",
       "      <th></th>\n",
       "      <th></th>\n",
       "    </tr>\n",
       "  </thead>\n",
       "  <tbody>\n",
       "    <tr>\n",
       "      <th>0</th>\n",
       "      <td>27</td>\n",
       "      <td>17</td>\n",
       "      <td>10</td>\n",
       "      <td>54</td>\n",
       "    </tr>\n",
       "    <tr>\n",
       "      <th>18-24</th>\n",
       "      <td>28</td>\n",
       "      <td>18</td>\n",
       "      <td>20</td>\n",
       "      <td>66</td>\n",
       "    </tr>\n",
       "    <tr>\n",
       "      <th>24-30</th>\n",
       "      <td>13</td>\n",
       "      <td>18</td>\n",
       "      <td>4</td>\n",
       "      <td>35</td>\n",
       "    </tr>\n",
       "    <tr>\n",
       "      <th>30-37</th>\n",
       "      <td>8</td>\n",
       "      <td>5</td>\n",
       "      <td>3</td>\n",
       "      <td>16</td>\n",
       "    </tr>\n",
       "    <tr>\n",
       "      <th>37-43</th>\n",
       "      <td>4</td>\n",
       "      <td>2</td>\n",
       "      <td>3</td>\n",
       "      <td>9</td>\n",
       "    </tr>\n",
       "    <tr>\n",
       "      <th>All</th>\n",
       "      <td>80</td>\n",
       "      <td>60</td>\n",
       "      <td>40</td>\n",
       "      <td>180</td>\n",
       "    </tr>\n",
       "  </tbody>\n",
       "</table>\n",
       "</div>"
      ],
      "text/plain": [
       "Product   A   B   C  All\n",
       "Age_grp                 \n",
       "0        27  17  10   54\n",
       "18-24    28  18  20   66\n",
       "24-30    13  18   4   35\n",
       "30-37     8   5   3   16\n",
       "37-43     4   2   3    9\n",
       "All      80  60  40  180"
      ]
     },
     "metadata": {},
     "output_type": "display_data"
    },
    {
     "name": "stdout",
     "output_type": "stream",
     "text": [
      "\n"
     ]
    }
   ],
   "source": [
    "print(\"Contingency Table :\")\n",
    "create_contigency('Age_grp','Product',data)"
   ]
  },
  {
   "cell_type": "code",
   "execution_count": 28,
   "id": "d2931333",
   "metadata": {
    "execution": {
     "iopub.execute_input": "2022-04-30T19:01:57.823574Z",
     "iopub.status.busy": "2022-04-30T19:01:57.823195Z",
     "iopub.status.idle": "2022-04-30T19:01:58.193249Z",
     "shell.execute_reply": "2022-04-30T19:01:58.192128Z"
    },
    "papermill": {
     "duration": 0.455289,
     "end_time": "2022-04-30T19:01:58.195740",
     "exception": false,
     "start_time": "2022-04-30T19:01:57.740451",
     "status": "completed"
    },
    "tags": []
   },
   "outputs": [
    {
     "data": {
      "text/plain": [
       "<AxesSubplot:xlabel='Income_grp', ylabel='count'>"
      ]
     },
     "execution_count": 28,
     "metadata": {},
     "output_type": "execute_result"
    },
    {
     "data": {
      "image/png": "[encoded data removed]",
      "text/plain": [
       "<Figure size 432x288 with 1 Axes>"
      ]
     },
     "metadata": {
      "needs_background": "light"
     },
     "output_type": "display_data"
    }
   ],
   "source": [
    "col = 'Income'\n",
    "\n",
    "est = KBinsDiscretizer(n_bins=5, encode='ordinal',strategy=\"uniform\")\n",
    "est.fit(data[col].values.reshape(-1, 1))\n",
    "\n",
    "Xt = est.transform(data[col].values.reshape(-1, 1))\n",
    "data[col+'_grp'] = Xt\n",
    "data[col+'_grp'] = data[col+'_grp'].astype(int)\n",
    "grps = list(est.bin_edges_[0])\n",
    "mapping = {}\n",
    "for i in range(1,len(grps)):\n",
    "    mapping[i] = str(int(grps[i-1]/100)) + '-' + str(int(grps[i]/100))\n",
    "    \n",
    "data[col+'_grp'] = data[col+'_grp'].replace(mapping)\n",
    "\n",
    "tmp = data[['Product',col+'_grp']]\n",
    "tmp['count'] = 1\n",
    "tmp = tmp.groupby(['Product',col+'_grp']).sum()['count'].reset_index()\n",
    "\n",
    "total = sum(tmp['count'])\n",
    "tmp['count'] = tmp['count']/total\n",
    "\n",
    "sns.barplot(data=tmp,hue='Product',y='count',x=col+'_grp')"
   ]
  },
  {
   "cell_type": "code",
   "execution_count": 29,
   "id": "984918c0",
   "metadata": {
    "execution": {
     "iopub.execute_input": "2022-04-30T19:01:58.362903Z",
     "iopub.status.busy": "2022-04-30T19:01:58.362550Z",
     "iopub.status.idle": "2022-04-30T19:01:58.445345Z",
     "shell.execute_reply": "2022-04-30T19:01:58.444486Z"
    },
    "papermill": {
     "duration": 0.170367,
     "end_time": "2022-04-30T19:01:58.448756",
     "exception": false,
     "start_time": "2022-04-30T19:01:58.278389",
     "status": "completed"
    },
    "tags": []
   },
   "outputs": [
    {
     "name": "stdout",
     "output_type": "stream",
     "text": [
      "Contingency Table :\n",
      "Conditional Probability : P(Product|Income_grp)\n"
     ]
    },
    {
     "data": {
      "text/html": [
       "<div>\n",
       "<style scoped>\n",
       "    .dataframe tbody tr th:only-of-type {\n",
       "        vertical-align: middle;\n",
       "    }\n",
       "\n",
       "    .dataframe tbody tr th {\n",
       "        vertical-align: top;\n",
       "    }\n",
       "\n",
       "    .dataframe thead th {\n",
       "        text-align: right;\n",
       "    }\n",
       "</style>\n",
       "<table border=\"1\" class=\"dataframe\">\n",
       "  <thead>\n",
       "    <tr style=\"text-align: right;\">\n",
       "      <th>Product</th>\n",
       "      <th>A</th>\n",
       "      <th>B</th>\n",
       "      <th>C</th>\n",
       "    </tr>\n",
       "    <tr>\n",
       "      <th>Income_grp</th>\n",
       "      <th></th>\n",
       "      <th></th>\n",
       "      <th></th>\n",
       "    </tr>\n",
       "  </thead>\n",
       "  <tbody>\n",
       "    <tr>\n",
       "      <th>0</th>\n",
       "      <td>0.693878</td>\n",
       "      <td>0.306122</td>\n",
       "      <td>0.000000</td>\n",
       "    </tr>\n",
       "    <tr>\n",
       "      <th>295-445</th>\n",
       "      <td>0.449438</td>\n",
       "      <td>0.426966</td>\n",
       "      <td>0.123596</td>\n",
       "    </tr>\n",
       "    <tr>\n",
       "      <th>445-595</th>\n",
       "      <td>0.300000</td>\n",
       "      <td>0.350000</td>\n",
       "      <td>0.350000</td>\n",
       "    </tr>\n",
       "    <tr>\n",
       "      <th>595-745</th>\n",
       "      <td>0.000000</td>\n",
       "      <td>0.000000</td>\n",
       "      <td>1.000000</td>\n",
       "    </tr>\n",
       "    <tr>\n",
       "      <th>745-895</th>\n",
       "      <td>0.000000</td>\n",
       "      <td>0.000000</td>\n",
       "      <td>1.000000</td>\n",
       "    </tr>\n",
       "  </tbody>\n",
       "</table>\n",
       "</div>"
      ],
      "text/plain": [
       "Product            A         B         C\n",
       "Income_grp                              \n",
       "0           0.693878  0.306122  0.000000\n",
       "295-445     0.449438  0.426966  0.123596\n",
       "445-595     0.300000  0.350000  0.350000\n",
       "595-745     0.000000  0.000000  1.000000\n",
       "745-895     0.000000  0.000000  1.000000"
      ]
     },
     "metadata": {},
     "output_type": "display_data"
    },
    {
     "name": "stdout",
     "output_type": "stream",
     "text": [
      "\n",
      "\n",
      "Conditional Probability : P(Income_grp|Product)\n"
     ]
    },
    {
     "data": {
      "text/html": [
       "<div>\n",
       "<style scoped>\n",
       "    .dataframe tbody tr th:only-of-type {\n",
       "        vertical-align: middle;\n",
       "    }\n",
       "\n",
       "    .dataframe tbody tr th {\n",
       "        vertical-align: top;\n",
       "    }\n",
       "\n",
       "    .dataframe thead th {\n",
       "        text-align: right;\n",
       "    }\n",
       "</style>\n",
       "<table border=\"1\" class=\"dataframe\">\n",
       "  <thead>\n",
       "    <tr style=\"text-align: right;\">\n",
       "      <th>Product</th>\n",
       "      <th>A</th>\n",
       "      <th>B</th>\n",
       "      <th>C</th>\n",
       "    </tr>\n",
       "    <tr>\n",
       "      <th>Income_grp</th>\n",
       "      <th></th>\n",
       "      <th></th>\n",
       "      <th></th>\n",
       "    </tr>\n",
       "  </thead>\n",
       "  <tbody>\n",
       "    <tr>\n",
       "      <th>0</th>\n",
       "      <td>0.425</td>\n",
       "      <td>0.250000</td>\n",
       "      <td>0.000</td>\n",
       "    </tr>\n",
       "    <tr>\n",
       "      <th>295-445</th>\n",
       "      <td>0.500</td>\n",
       "      <td>0.633333</td>\n",
       "      <td>0.275</td>\n",
       "    </tr>\n",
       "    <tr>\n",
       "      <th>445-595</th>\n",
       "      <td>0.075</td>\n",
       "      <td>0.116667</td>\n",
       "      <td>0.175</td>\n",
       "    </tr>\n",
       "    <tr>\n",
       "      <th>595-745</th>\n",
       "      <td>0.000</td>\n",
       "      <td>0.000000</td>\n",
       "      <td>0.200</td>\n",
       "    </tr>\n",
       "    <tr>\n",
       "      <th>745-895</th>\n",
       "      <td>0.000</td>\n",
       "      <td>0.000000</td>\n",
       "      <td>0.350</td>\n",
       "    </tr>\n",
       "  </tbody>\n",
       "</table>\n",
       "</div>"
      ],
      "text/plain": [
       "Product         A         B      C\n",
       "Income_grp                        \n",
       "0           0.425  0.250000  0.000\n",
       "295-445     0.500  0.633333  0.275\n",
       "445-595     0.075  0.116667  0.175\n",
       "595-745     0.000  0.000000  0.200\n",
       "745-895     0.000  0.000000  0.350"
      ]
     },
     "metadata": {},
     "output_type": "display_data"
    },
    {
     "data": {
      "text/html": [
       "<div>\n",
       "<style scoped>\n",
       "    .dataframe tbody tr th:only-of-type {\n",
       "        vertical-align: middle;\n",
       "    }\n",
       "\n",
       "    .dataframe tbody tr th {\n",
       "        vertical-align: top;\n",
       "    }\n",
       "\n",
       "    .dataframe thead th {\n",
       "        text-align: right;\n",
       "    }\n",
       "</style>\n",
       "<table border=\"1\" class=\"dataframe\">\n",
       "  <thead>\n",
       "    <tr style=\"text-align: right;\">\n",
       "      <th>Product</th>\n",
       "      <th>A</th>\n",
       "      <th>B</th>\n",
       "      <th>C</th>\n",
       "      <th>All</th>\n",
       "    </tr>\n",
       "    <tr>\n",
       "      <th>Income_grp</th>\n",
       "      <th></th>\n",
       "      <th></th>\n",
       "      <th></th>\n",
       "      <th></th>\n",
       "    </tr>\n",
       "  </thead>\n",
       "  <tbody>\n",
       "    <tr>\n",
       "      <th>0</th>\n",
       "      <td>34</td>\n",
       "      <td>15</td>\n",
       "      <td>0</td>\n",
       "      <td>49</td>\n",
       "    </tr>\n",
       "    <tr>\n",
       "      <th>295-445</th>\n",
       "      <td>40</td>\n",
       "      <td>38</td>\n",
       "      <td>11</td>\n",
       "      <td>89</td>\n",
       "    </tr>\n",
       "    <tr>\n",
       "      <th>445-595</th>\n",
       "      <td>6</td>\n",
       "      <td>7</td>\n",
       "      <td>7</td>\n",
       "      <td>20</td>\n",
       "    </tr>\n",
       "    <tr>\n",
       "      <th>595-745</th>\n",
       "      <td>0</td>\n",
       "      <td>0</td>\n",
       "      <td>8</td>\n",
       "      <td>8</td>\n",
       "    </tr>\n",
       "    <tr>\n",
       "      <th>745-895</th>\n",
       "      <td>0</td>\n",
       "      <td>0</td>\n",
       "      <td>14</td>\n",
       "      <td>14</td>\n",
       "    </tr>\n",
       "    <tr>\n",
       "      <th>All</th>\n",
       "      <td>80</td>\n",
       "      <td>60</td>\n",
       "      <td>40</td>\n",
       "      <td>180</td>\n",
       "    </tr>\n",
       "  </tbody>\n",
       "</table>\n",
       "</div>"
      ],
      "text/plain": [
       "Product      A   B   C  All\n",
       "Income_grp                 \n",
       "0           34  15   0   49\n",
       "295-445     40  38  11   89\n",
       "445-595      6   7   7   20\n",
       "595-745      0   0   8    8\n",
       "745-895      0   0  14   14\n",
       "All         80  60  40  180"
      ]
     },
     "metadata": {},
     "output_type": "display_data"
    },
    {
     "name": "stdout",
     "output_type": "stream",
     "text": [
      "\n"
     ]
    }
   ],
   "source": [
    "print(\"Contingency Table :\")\n",
    "create_contigency('Income_grp','Product',data)"
   ]
  },
  {
   "cell_type": "code",
   "execution_count": 30,
   "id": "f4b3488f",
   "metadata": {
    "execution": {
     "iopub.execute_input": "2022-04-30T19:01:58.621912Z",
     "iopub.status.busy": "2022-04-30T19:01:58.621587Z",
     "iopub.status.idle": "2022-04-30T19:01:58.997179Z",
     "shell.execute_reply": "2022-04-30T19:01:58.996477Z"
    },
    "papermill": {
     "duration": 0.464462,
     "end_time": "2022-04-30T19:01:58.999147",
     "exception": false,
     "start_time": "2022-04-30T19:01:58.534685",
     "status": "completed"
    },
    "tags": []
   },
   "outputs": [
    {
     "data": {
      "text/plain": [
       "<AxesSubplot:xlabel='Miles_grp', ylabel='count'>"
      ]
     },
     "execution_count": 30,
     "metadata": {},
     "output_type": "execute_result"
    },
    {
     "data": {
      "image/png": "[encoded data removed]",
      "text/plain": [
       "<Figure size 432x288 with 1 Axes>"
      ]
     },
     "metadata": {
      "needs_background": "light"
     },
     "output_type": "display_data"
    }
   ],
   "source": [
    "col = 'Miles'\n",
    "\n",
    "est = KBinsDiscretizer(n_bins=5, encode='ordinal',strategy=\"uniform\")\n",
    "est.fit(data[col].values.reshape(-1, 1))\n",
    "\n",
    "Xt = est.transform(data[col].values.reshape(-1, 1))\n",
    "data[col+'_grp'] = Xt\n",
    "data[col+'_grp'] = data[col+'_grp'].astype(int)\n",
    "grps = list(est.bin_edges_[0])\n",
    "mapping = {}\n",
    "for i in range(1,len(grps)):\n",
    "    mapping[i] = str(int(grps[i-1])) + '-' + str(int(grps[i]))\n",
    "    \n",
    "data[col+'_grp'] = data[col+'_grp'].replace(mapping)\n",
    "\n",
    "tmp = data[['Product',col+'_grp']]\n",
    "tmp['count'] = 1\n",
    "tmp = tmp.groupby(['Product',col+'_grp']).sum()['count'].reset_index()\n",
    "total = sum(tmp['count'])\n",
    "tmp['count'] = tmp['count']/total\n",
    "sns.barplot(data=tmp,hue='Product',y='count',x=col+'_grp')"
   ]
  },
  {
   "cell_type": "code",
   "execution_count": 31,
   "id": "6816038f",
   "metadata": {
    "execution": {
     "iopub.execute_input": "2022-04-30T19:01:59.187636Z",
     "iopub.status.busy": "2022-04-30T19:01:59.186655Z",
     "iopub.status.idle": "2022-04-30T19:01:59.273745Z",
     "shell.execute_reply": "2022-04-30T19:01:59.272854Z"
    },
    "papermill": {
     "duration": 0.181936,
     "end_time": "2022-04-30T19:01:59.276521",
     "exception": false,
     "start_time": "2022-04-30T19:01:59.094585",
     "status": "completed"
    },
    "tags": []
   },
   "outputs": [
    {
     "name": "stdout",
     "output_type": "stream",
     "text": [
      "Contingency Table :\n",
      "Conditional Probability : P(Product|Miles_grp)\n"
     ]
    },
    {
     "data": {
      "text/html": [
       "<div>\n",
       "<style scoped>\n",
       "    .dataframe tbody tr th:only-of-type {\n",
       "        vertical-align: middle;\n",
       "    }\n",
       "\n",
       "    .dataframe tbody tr th {\n",
       "        vertical-align: top;\n",
       "    }\n",
       "\n",
       "    .dataframe thead th {\n",
       "        text-align: right;\n",
       "    }\n",
       "</style>\n",
       "<table border=\"1\" class=\"dataframe\">\n",
       "  <thead>\n",
       "    <tr style=\"text-align: right;\">\n",
       "      <th>Product</th>\n",
       "      <th>A</th>\n",
       "      <th>B</th>\n",
       "      <th>C</th>\n",
       "    </tr>\n",
       "    <tr>\n",
       "      <th>Miles_grp</th>\n",
       "      <th></th>\n",
       "      <th></th>\n",
       "      <th></th>\n",
       "    </tr>\n",
       "  </thead>\n",
       "  <tbody>\n",
       "    <tr>\n",
       "      <th>0</th>\n",
       "      <td>0.620690</td>\n",
       "      <td>0.367816</td>\n",
       "      <td>0.011494</td>\n",
       "    </tr>\n",
       "    <tr>\n",
       "      <th>156-224</th>\n",
       "      <td>0.000000</td>\n",
       "      <td>0.000000</td>\n",
       "      <td>1.000000</td>\n",
       "    </tr>\n",
       "    <tr>\n",
       "      <th>21-88</th>\n",
       "      <td>0.369231</td>\n",
       "      <td>0.384615</td>\n",
       "      <td>0.246154</td>\n",
       "    </tr>\n",
       "    <tr>\n",
       "      <th>224-292</th>\n",
       "      <td>0.000000</td>\n",
       "      <td>0.000000</td>\n",
       "      <td>1.000000</td>\n",
       "    </tr>\n",
       "    <tr>\n",
       "      <th>88-156</th>\n",
       "      <td>0.086957</td>\n",
       "      <td>0.130435</td>\n",
       "      <td>0.782609</td>\n",
       "    </tr>\n",
       "  </tbody>\n",
       "</table>\n",
       "</div>"
      ],
      "text/plain": [
       "Product           A         B         C\n",
       "Miles_grp                              \n",
       "0          0.620690  0.367816  0.011494\n",
       "156-224    0.000000  0.000000  1.000000\n",
       "21-88      0.369231  0.384615  0.246154\n",
       "224-292    0.000000  0.000000  1.000000\n",
       "88-156     0.086957  0.130435  0.782609"
      ]
     },
     "metadata": {},
     "output_type": "display_data"
    },
    {
     "name": "stdout",
     "output_type": "stream",
     "text": [
      "\n",
      "\n",
      "Conditional Probability : P(Miles_grp|Product)\n"
     ]
    },
    {
     "data": {
      "text/html": [
       "<div>\n",
       "<style scoped>\n",
       "    .dataframe tbody tr th:only-of-type {\n",
       "        vertical-align: middle;\n",
       "    }\n",
       "\n",
       "    .dataframe tbody tr th {\n",
       "        vertical-align: top;\n",
       "    }\n",
       "\n",
       "    .dataframe thead th {\n",
       "        text-align: right;\n",
       "    }\n",
       "</style>\n",
       "<table border=\"1\" class=\"dataframe\">\n",
       "  <thead>\n",
       "    <tr style=\"text-align: right;\">\n",
       "      <th>Product</th>\n",
       "      <th>A</th>\n",
       "      <th>B</th>\n",
       "      <th>C</th>\n",
       "    </tr>\n",
       "    <tr>\n",
       "      <th>Miles_grp</th>\n",
       "      <th></th>\n",
       "      <th></th>\n",
       "      <th></th>\n",
       "    </tr>\n",
       "  </thead>\n",
       "  <tbody>\n",
       "    <tr>\n",
       "      <th>0</th>\n",
       "      <td>0.675</td>\n",
       "      <td>0.533333</td>\n",
       "      <td>0.025</td>\n",
       "    </tr>\n",
       "    <tr>\n",
       "      <th>156-224</th>\n",
       "      <td>0.000</td>\n",
       "      <td>0.000000</td>\n",
       "      <td>0.075</td>\n",
       "    </tr>\n",
       "    <tr>\n",
       "      <th>21-88</th>\n",
       "      <td>0.300</td>\n",
       "      <td>0.416667</td>\n",
       "      <td>0.400</td>\n",
       "    </tr>\n",
       "    <tr>\n",
       "      <th>224-292</th>\n",
       "      <td>0.000</td>\n",
       "      <td>0.000000</td>\n",
       "      <td>0.050</td>\n",
       "    </tr>\n",
       "    <tr>\n",
       "      <th>88-156</th>\n",
       "      <td>0.025</td>\n",
       "      <td>0.050000</td>\n",
       "      <td>0.450</td>\n",
       "    </tr>\n",
       "  </tbody>\n",
       "</table>\n",
       "</div>"
      ],
      "text/plain": [
       "Product        A         B      C\n",
       "Miles_grp                        \n",
       "0          0.675  0.533333  0.025\n",
       "156-224    0.000  0.000000  0.075\n",
       "21-88      0.300  0.416667  0.400\n",
       "224-292    0.000  0.000000  0.050\n",
       "88-156     0.025  0.050000  0.450"
      ]
     },
     "metadata": {},
     "output_type": "display_data"
    },
    {
     "data": {
      "text/html": [
       "<div>\n",
       "<style scoped>\n",
       "    .dataframe tbody tr th:only-of-type {\n",
       "        vertical-align: middle;\n",
       "    }\n",
       "\n",
       "    .dataframe tbody tr th {\n",
       "        vertical-align: top;\n",
       "    }\n",
       "\n",
       "    .dataframe thead th {\n",
       "        text-align: right;\n",
       "    }\n",
       "</style>\n",
       "<table border=\"1\" class=\"dataframe\">\n",
       "  <thead>\n",
       "    <tr style=\"text-align: right;\">\n",
       "      <th>Product</th>\n",
       "      <th>A</th>\n",
       "      <th>B</th>\n",
       "      <th>C</th>\n",
       "      <th>All</th>\n",
       "    </tr>\n",
       "    <tr>\n",
       "      <th>Miles_grp</th>\n",
       "      <th></th>\n",
       "      <th></th>\n",
       "      <th></th>\n",
       "      <th></th>\n",
       "    </tr>\n",
       "  </thead>\n",
       "  <tbody>\n",
       "    <tr>\n",
       "      <th>0</th>\n",
       "      <td>54</td>\n",
       "      <td>32</td>\n",
       "      <td>1</td>\n",
       "      <td>87</td>\n",
       "    </tr>\n",
       "    <tr>\n",
       "      <th>156-224</th>\n",
       "      <td>0</td>\n",
       "      <td>0</td>\n",
       "      <td>3</td>\n",
       "      <td>3</td>\n",
       "    </tr>\n",
       "    <tr>\n",
       "      <th>21-88</th>\n",
       "      <td>24</td>\n",
       "      <td>25</td>\n",
       "      <td>16</td>\n",
       "      <td>65</td>\n",
       "    </tr>\n",
       "    <tr>\n",
       "      <th>224-292</th>\n",
       "      <td>0</td>\n",
       "      <td>0</td>\n",
       "      <td>2</td>\n",
       "      <td>2</td>\n",
       "    </tr>\n",
       "    <tr>\n",
       "      <th>88-156</th>\n",
       "      <td>2</td>\n",
       "      <td>3</td>\n",
       "      <td>18</td>\n",
       "      <td>23</td>\n",
       "    </tr>\n",
       "    <tr>\n",
       "      <th>All</th>\n",
       "      <td>80</td>\n",
       "      <td>60</td>\n",
       "      <td>40</td>\n",
       "      <td>180</td>\n",
       "    </tr>\n",
       "  </tbody>\n",
       "</table>\n",
       "</div>"
      ],
      "text/plain": [
       "Product     A   B   C  All\n",
       "Miles_grp                 \n",
       "0          54  32   1   87\n",
       "156-224     0   0   3    3\n",
       "21-88      24  25  16   65\n",
       "224-292     0   0   2    2\n",
       "88-156      2   3  18   23\n",
       "All        80  60  40  180"
      ]
     },
     "metadata": {},
     "output_type": "display_data"
    },
    {
     "name": "stdout",
     "output_type": "stream",
     "text": [
      "\n"
     ]
    }
   ],
   "source": [
    "print(\"Contingency Table :\")\n",
    "create_contigency('Miles_grp','Product',data)"
   ]
  },
  {
   "cell_type": "code",
   "execution_count": 32,
   "id": "64a44efb",
   "metadata": {
    "execution": {
     "iopub.execute_input": "2022-04-30T19:01:59.468267Z",
     "iopub.status.busy": "2022-04-30T19:01:59.467789Z",
     "iopub.status.idle": "2022-04-30T19:01:59.658001Z",
     "shell.execute_reply": "2022-04-30T19:01:59.657111Z"
    },
    "papermill": {
     "duration": 0.286367,
     "end_time": "2022-04-30T19:01:59.661560",
     "exception": false,
     "start_time": "2022-04-30T19:01:59.375193",
     "status": "completed"
    },
    "tags": []
   },
   "outputs": [
    {
     "data": {
      "text/plain": [
       "<AxesSubplot:xlabel='Product', ylabel='count'>"
      ]
     },
     "execution_count": 32,
     "metadata": {},
     "output_type": "execute_result"
    },
    {
     "data": {
      "image/png": "[encoded data removed]",
      "text/plain": [
       "<Figure size 432x288 with 1 Axes>"
      ]
     },
     "metadata": {
      "needs_background": "light"
     },
     "output_type": "display_data"
    }
   ],
   "source": [
    "tmp = data[['Product']]\n",
    "tmp['count'] =1\n",
    "\n",
    "tmp = tmp.groupby('Product').sum()['count'].reset_index()\n",
    "\n",
    "total = sum(tmp['count'])\n",
    "tmp['count'] = tmp['count']/total\n",
    "sns.barplot(data=tmp,x='Product',y='count')"
   ]
  },
  {
   "cell_type": "code",
   "execution_count": 33,
   "id": "71397715",
   "metadata": {
    "execution": {
     "iopub.execute_input": "2022-04-30T19:01:59.847089Z",
     "iopub.status.busy": "2022-04-30T19:01:59.846063Z",
     "iopub.status.idle": "2022-04-30T19:01:59.868426Z",
     "shell.execute_reply": "2022-04-30T19:01:59.867717Z"
    },
    "papermill": {
     "duration": 0.117669,
     "end_time": "2022-04-30T19:01:59.870993",
     "exception": false,
     "start_time": "2022-04-30T19:01:59.753324",
     "status": "completed"
    },
    "tags": []
   },
   "outputs": [
    {
     "data": {
      "text/html": [
       "<div>\n",
       "<style scoped>\n",
       "    .dataframe tbody tr th:only-of-type {\n",
       "        vertical-align: middle;\n",
       "    }\n",
       "\n",
       "    .dataframe tbody tr th {\n",
       "        vertical-align: top;\n",
       "    }\n",
       "\n",
       "    .dataframe thead th {\n",
       "        text-align: right;\n",
       "    }\n",
       "</style>\n",
       "<table border=\"1\" class=\"dataframe\">\n",
       "  <thead>\n",
       "    <tr style=\"text-align: right;\">\n",
       "      <th></th>\n",
       "      <th>Product</th>\n",
       "      <th>Age</th>\n",
       "      <th>Gender</th>\n",
       "      <th>Education</th>\n",
       "      <th>MaritalStatus</th>\n",
       "      <th>Usage</th>\n",
       "      <th>Fitness</th>\n",
       "      <th>Income</th>\n",
       "      <th>Miles</th>\n",
       "      <th>Age_grp</th>\n",
       "      <th>Income_grp</th>\n",
       "      <th>Miles_grp</th>\n",
       "    </tr>\n",
       "  </thead>\n",
       "  <tbody>\n",
       "    <tr>\n",
       "      <th>0</th>\n",
       "      <td>A</td>\n",
       "      <td>18</td>\n",
       "      <td>Male</td>\n",
       "      <td>14</td>\n",
       "      <td>Single</td>\n",
       "      <td>3</td>\n",
       "      <td>4</td>\n",
       "      <td>29562</td>\n",
       "      <td>112</td>\n",
       "      <td>0</td>\n",
       "      <td>0</td>\n",
       "      <td>21-88</td>\n",
       "    </tr>\n",
       "    <tr>\n",
       "      <th>1</th>\n",
       "      <td>A</td>\n",
       "      <td>19</td>\n",
       "      <td>Male</td>\n",
       "      <td>15</td>\n",
       "      <td>Single</td>\n",
       "      <td>2</td>\n",
       "      <td>3</td>\n",
       "      <td>31836</td>\n",
       "      <td>75</td>\n",
       "      <td>0</td>\n",
       "      <td>0</td>\n",
       "      <td>0</td>\n",
       "    </tr>\n",
       "    <tr>\n",
       "      <th>2</th>\n",
       "      <td>A</td>\n",
       "      <td>19</td>\n",
       "      <td>Female</td>\n",
       "      <td>14</td>\n",
       "      <td>Partnered</td>\n",
       "      <td>4</td>\n",
       "      <td>3</td>\n",
       "      <td>30699</td>\n",
       "      <td>66</td>\n",
       "      <td>0</td>\n",
       "      <td>0</td>\n",
       "      <td>0</td>\n",
       "    </tr>\n",
       "    <tr>\n",
       "      <th>3</th>\n",
       "      <td>A</td>\n",
       "      <td>19</td>\n",
       "      <td>Male</td>\n",
       "      <td>12</td>\n",
       "      <td>Single</td>\n",
       "      <td>3</td>\n",
       "      <td>3</td>\n",
       "      <td>32973</td>\n",
       "      <td>85</td>\n",
       "      <td>0</td>\n",
       "      <td>0</td>\n",
       "      <td>0</td>\n",
       "    </tr>\n",
       "    <tr>\n",
       "      <th>4</th>\n",
       "      <td>A</td>\n",
       "      <td>20</td>\n",
       "      <td>Male</td>\n",
       "      <td>13</td>\n",
       "      <td>Partnered</td>\n",
       "      <td>4</td>\n",
       "      <td>2</td>\n",
       "      <td>35247</td>\n",
       "      <td>47</td>\n",
       "      <td>0</td>\n",
       "      <td>0</td>\n",
       "      <td>0</td>\n",
       "    </tr>\n",
       "    <tr>\n",
       "      <th>...</th>\n",
       "      <td>...</td>\n",
       "      <td>...</td>\n",
       "      <td>...</td>\n",
       "      <td>...</td>\n",
       "      <td>...</td>\n",
       "      <td>...</td>\n",
       "      <td>...</td>\n",
       "      <td>...</td>\n",
       "      <td>...</td>\n",
       "      <td>...</td>\n",
       "      <td>...</td>\n",
       "      <td>...</td>\n",
       "    </tr>\n",
       "    <tr>\n",
       "      <th>175</th>\n",
       "      <td>C</td>\n",
       "      <td>40</td>\n",
       "      <td>Male</td>\n",
       "      <td>21</td>\n",
       "      <td>Single</td>\n",
       "      <td>6</td>\n",
       "      <td>5</td>\n",
       "      <td>83416</td>\n",
       "      <td>200</td>\n",
       "      <td>30-37</td>\n",
       "      <td>595-745</td>\n",
       "      <td>88-156</td>\n",
       "    </tr>\n",
       "    <tr>\n",
       "      <th>176</th>\n",
       "      <td>C</td>\n",
       "      <td>42</td>\n",
       "      <td>Male</td>\n",
       "      <td>18</td>\n",
       "      <td>Single</td>\n",
       "      <td>5</td>\n",
       "      <td>4</td>\n",
       "      <td>89641</td>\n",
       "      <td>200</td>\n",
       "      <td>30-37</td>\n",
       "      <td>745-895</td>\n",
       "      <td>88-156</td>\n",
       "    </tr>\n",
       "    <tr>\n",
       "      <th>177</th>\n",
       "      <td>C</td>\n",
       "      <td>45</td>\n",
       "      <td>Male</td>\n",
       "      <td>16</td>\n",
       "      <td>Single</td>\n",
       "      <td>5</td>\n",
       "      <td>5</td>\n",
       "      <td>90886</td>\n",
       "      <td>160</td>\n",
       "      <td>37-43</td>\n",
       "      <td>745-895</td>\n",
       "      <td>88-156</td>\n",
       "    </tr>\n",
       "    <tr>\n",
       "      <th>178</th>\n",
       "      <td>C</td>\n",
       "      <td>47</td>\n",
       "      <td>Male</td>\n",
       "      <td>18</td>\n",
       "      <td>Partnered</td>\n",
       "      <td>4</td>\n",
       "      <td>5</td>\n",
       "      <td>104581</td>\n",
       "      <td>120</td>\n",
       "      <td>37-43</td>\n",
       "      <td>745-895</td>\n",
       "      <td>21-88</td>\n",
       "    </tr>\n",
       "    <tr>\n",
       "      <th>179</th>\n",
       "      <td>C</td>\n",
       "      <td>48</td>\n",
       "      <td>Male</td>\n",
       "      <td>18</td>\n",
       "      <td>Partnered</td>\n",
       "      <td>4</td>\n",
       "      <td>5</td>\n",
       "      <td>95508</td>\n",
       "      <td>180</td>\n",
       "      <td>37-43</td>\n",
       "      <td>745-895</td>\n",
       "      <td>88-156</td>\n",
       "    </tr>\n",
       "  </tbody>\n",
       "</table>\n",
       "<p>180 rows × 12 columns</p>\n",
       "</div>"
      ],
      "text/plain": [
       "    Product  Age  Gender  Education MaritalStatus  Usage  Fitness  Income  \\\n",
       "0         A   18    Male         14        Single      3        4   29562   \n",
       "1         A   19    Male         15        Single      2        3   31836   \n",
       "2         A   19  Female         14     Partnered      4        3   30699   \n",
       "3         A   19    Male         12        Single      3        3   32973   \n",
       "4         A   20    Male         13     Partnered      4        2   35247   \n",
       "..      ...  ...     ...        ...           ...    ...      ...     ...   \n",
       "175       C   40    Male         21        Single      6        5   83416   \n",
       "176       C   42    Male         18        Single      5        4   89641   \n",
       "177       C   45    Male         16        Single      5        5   90886   \n",
       "178       C   47    Male         18     Partnered      4        5  104581   \n",
       "179       C   48    Male         18     Partnered      4        5   95508   \n",
       "\n",
       "     Miles Age_grp Income_grp Miles_grp  \n",
       "0      112       0          0     21-88  \n",
       "1       75       0          0         0  \n",
       "2       66       0          0         0  \n",
       "3       85       0          0         0  \n",
       "4       47       0          0         0  \n",
       "..     ...     ...        ...       ...  \n",
       "175    200   30-37    595-745    88-156  \n",
       "176    200   30-37    745-895    88-156  \n",
       "177    160   37-43    745-895    88-156  \n",
       "178    120   37-43    745-895     21-88  \n",
       "179    180   37-43    745-895    88-156  \n",
       "\n",
       "[180 rows x 12 columns]"
      ]
     },
     "execution_count": 33,
     "metadata": {},
     "output_type": "execute_result"
    }
   ],
   "source": [
    "data"
   ]
  },
  {
   "cell_type": "code",
   "execution_count": 34,
   "id": "a580ebbe",
   "metadata": {
    "execution": {
     "iopub.execute_input": "2022-04-30T19:02:00.058830Z",
     "iopub.status.busy": "2022-04-30T19:02:00.058330Z",
     "iopub.status.idle": "2022-04-30T19:02:00.360074Z",
     "shell.execute_reply": "2022-04-30T19:02:00.359445Z"
    },
    "papermill": {
     "duration": 0.399555,
     "end_time": "2022-04-30T19:02:00.362385",
     "exception": false,
     "start_time": "2022-04-30T19:01:59.962830",
     "status": "completed"
    },
    "tags": []
   },
   "outputs": [
    {
     "data": {
      "image/png": "[encoded data removed]",
      "text/plain": [
       "<Figure size 432x288 with 1 Axes>"
      ]
     },
     "metadata": {
      "needs_background": "light"
     },
     "output_type": "display_data"
    }
   ],
   "source": [
    "sns.scatterplot(data=data,x='Miles',y='Fitness',hue='Product')\n",
    "plt.show()"
   ]
  },
  {
   "cell_type": "code",
   "execution_count": 35,
   "id": "7a7ca070",
   "metadata": {
    "execution": {
     "iopub.execute_input": "2022-04-30T19:02:00.551683Z",
     "iopub.status.busy": "2022-04-30T19:02:00.551296Z",
     "iopub.status.idle": "2022-04-30T19:02:01.782372Z",
     "shell.execute_reply": "2022-04-30T19:02:01.781395Z"
    },
    "papermill": {
     "duration": 1.328077,
     "end_time": "2022-04-30T19:02:01.785022",
     "exception": false,
     "start_time": "2022-04-30T19:02:00.456945",
     "status": "completed"
    },
    "tags": []
   },
   "outputs": [
    {
     "data": {
      "image/png": "[encoded data removed]",
      "text/plain": [
       "<Figure size 785.75x360 with 2 Axes>"
      ]
     },
     "metadata": {
      "needs_background": "light"
     },
     "output_type": "display_data"
    }
   ],
   "source": [
    "sns.relplot(\n",
    "    data=data,\n",
    "    x=\"Fitness\", y=\"Income\", col=\"Gender\",\n",
    "    hue=\"Product\", style=\"Product\", size=\"Education\",\n",
    ")\n",
    "\n",
    "plt.show()"
   ]
  },
  {
   "cell_type": "code",
   "execution_count": 36,
   "id": "891e3427",
   "metadata": {
    "execution": {
     "iopub.execute_input": "2022-04-30T19:02:01.979631Z",
     "iopub.status.busy": "2022-04-30T19:02:01.979277Z",
     "iopub.status.idle": "2022-04-30T19:02:03.303824Z",
     "shell.execute_reply": "2022-04-30T19:02:03.302978Z"
    },
    "papermill": {
     "duration": 1.424693,
     "end_time": "2022-04-30T19:02:03.306308",
     "exception": false,
     "start_time": "2022-04-30T19:02:01.881615",
     "status": "completed"
    },
    "tags": []
   },
   "outputs": [
    {
     "data": {
      "image/png": "[encoded data removed]",
      "text/plain": [
       "<Figure size 765.875x360 with 2 Axes>"
      ]
     },
     "metadata": {
      "needs_background": "light"
     },
     "output_type": "display_data"
    }
   ],
   "source": [
    "sns.lmplot(data=data, y=\"Income\", x=\"Education\", col=\"Gender\", hue=\"Product\")\n",
    "plt.show()"
   ]
  },
  {
   "cell_type": "code",
   "execution_count": 37,
   "id": "192ddd33",
   "metadata": {
    "execution": {
     "iopub.execute_input": "2022-04-30T19:02:03.503340Z",
     "iopub.status.busy": "2022-04-30T19:02:03.502389Z",
     "iopub.status.idle": "2022-04-30T19:02:04.206202Z",
     "shell.execute_reply": "2022-04-30T19:02:04.205104Z"
    },
    "papermill": {
     "duration": 0.804956,
     "end_time": "2022-04-30T19:02:04.209088",
     "exception": false,
     "start_time": "2022-04-30T19:02:03.404132",
     "status": "completed"
    },
    "tags": []
   },
   "outputs": [
    {
     "data": {
      "image/png": "[encoded data removed]",
      "text/plain": [
       "<Figure size 432x288 with 1 Axes>"
      ]
     },
     "metadata": {
      "needs_background": "light"
     },
     "output_type": "display_data"
    }
   ],
   "source": [
    "ax = sns.swarmplot(x=\"Education\", y=\"Fitness\", data=data,dodge=True,hue='Gender')\n",
    "plt.show()"
   ]
  },
  {
   "cell_type": "code",
   "execution_count": 38,
   "id": "864e48c8",
   "metadata": {
    "execution": {
     "iopub.execute_input": "2022-04-30T19:02:04.412697Z",
     "iopub.status.busy": "2022-04-30T19:02:04.412346Z",
     "iopub.status.idle": "2022-04-30T19:02:04.785973Z",
     "shell.execute_reply": "2022-04-30T19:02:04.784916Z"
    },
    "papermill": {
     "duration": 0.47697,
     "end_time": "2022-04-30T19:02:04.788467",
     "exception": false,
     "start_time": "2022-04-30T19:02:04.311497",
     "status": "completed"
    },
    "tags": []
   },
   "outputs": [
    {
     "data": {
      "image/png": "[encoded data removed]",
      "text/plain": [
       "<Figure size 432x288 with 1 Axes>"
      ]
     },
     "metadata": {
      "needs_background": "light"
     },
     "output_type": "display_data"
    }
   ],
   "source": [
    "ax = sns.stripplot(x=\"Fitness\", y=\"Usage\", hue=\"Product\", data=data)\n",
    "plt.show()"
   ]
  },
  {
   "cell_type": "code",
   "execution_count": 39,
   "id": "f26ad8fd",
   "metadata": {
    "execution": {
     "iopub.execute_input": "2022-04-30T19:02:04.987807Z",
     "iopub.status.busy": "2022-04-30T19:02:04.987424Z",
     "iopub.status.idle": "2022-04-30T19:02:05.297239Z",
     "shell.execute_reply": "2022-04-30T19:02:05.296103Z"
    },
    "papermill": {
     "duration": 0.413246,
     "end_time": "2022-04-30T19:02:05.300087",
     "exception": false,
     "start_time": "2022-04-30T19:02:04.886841",
     "status": "completed"
    },
    "tags": []
   },
   "outputs": [
    {
     "data": {
      "image/png": "[encoded data removed]",
      "text/plain": [
       "<Figure size 432x288 with 1 Axes>"
      ]
     },
     "metadata": {
      "needs_background": "light"
     },
     "output_type": "display_data"
    }
   ],
   "source": [
    "ax = sns.scatterplot(x=\"Fitness\", y=\"Usage\", hue=\"Product\", data=data)\n",
    "plt.show()"
   ]
  },
  {
   "cell_type": "markdown",
   "id": "28bdc1c8",
   "metadata": {
    "papermill": {
     "duration": 0.100385,
     "end_time": "2022-04-30T19:02:05.503102",
     "exception": false,
     "start_time": "2022-04-30T19:02:05.402717",
     "status": "completed"
    },
    "tags": []
   },
   "source": [
    "<div style=\"font-family:verdana; word-spacing:1.5px;\">\n",
    "    <p style=\"text-align:center;font-size:125%;padding: 10px;\"><b>Actions and Insights</b></p>\n",
    "    </div>"
   ]
  },
  {
   "cell_type": "markdown",
   "id": "bdd4aedf",
   "metadata": {
    "papermill": {
     "duration": 0.098747,
     "end_time": "2022-04-30T19:02:05.701145",
     "exception": false,
     "start_time": "2022-04-30T19:02:05.602398",
     "status": "completed"
    },
    "tags": []
   },
   "source": [
    "<div style=\"display:fill;\n",
    "           border-radius:5px;\n",
    "           background-color:#BDE6ED;\n",
    "           font-size:110%;\n",
    "           font-family:verdana;\n",
    "           letter-spacing:0.5px\">\n",
    "\n",
    "<p style=\"padding: 10px;\n",
    "              color:black;\"> \n",
    "    <b>Insights</b>:\n",
    "    <ul>\n",
    "        <li> Partnered and Single users have much higher probability of buying machine A.\n",
    " <li> Females have most preference for machine A and least for C.\n",
    " <li> Males seem to have almost equal preference for all machines.\n",
    " <li> Partnered-Female have very high preference for Machine A.\n",
    " <li> Age group between 18-24 prefer Machine A.\n",
    " <li> Age group between 24-30 prefer Machine B.\n",
    " <li> Age group between 30-37 prefer Machine B.\n",
    " <li>  Age group between 37-43 prefer Machine A.\n",
    " <li> Customers with salary >60000  tend to buy Machine C almost always.\n",
    " <li> Customers with salary = 0  tend to buy Machine A most of the times.\n",
    " <li> Customers with miles >88  tend to buy Machine C almost always.\n",
    "     <li> Customers with above average Fitness and Usage tend to go for Machine C.\n",
    "    </p>\n",
    "    <p style=\"padding: 10px;\n",
    "              color:black;\"> \n",
    "    <b>Actions</b>:\n",
    "    <ul>\n",
    "        <li> We can target Machine C for customers who regularly excercise and are fit, as they might be more willing to invest in health equipments.\n",
    "            <li> Females tend to buy Machine A more, so they could be targeted for same.\n",
    "                <li> People with high income should be targeted for Machine C.\n",
    "                    <li> People with hogher usage should be targeted for Machine C.\n",
    "                     <li> People between Age 24 to 40 should be targeted for Machine B.\n",
    "                         <li>  People between Age less than 24 should be targeted for Machine A.\n",
    "    </p>\n",
    "    </div>"
   ]
  }
 ],
 "metadata": {
  "kernelspec": {
   "display_name": "Python 3",
   "language": "python",
   "name": "python3"
  },
  "language_info": {
   "codemirror_mode": {
    "name": "ipython",
    "version": 3
   },
   "file_extension": ".py",
   "mimetype": "text/x-python",
   "name": "python",
   "nbconvert_exporter": "python",
   "pygments_lexer": "ipython3",
   "version": "3.7.12"
  },
  "papermill": {
   "default_parameters": {},
   "duration": 31.559086,
   "end_time": "2022-04-30T19:02:07.026685",
   "environment_variables": {},
   "exception": null,
   "input_path": "__notebook__.ipynb",
   "output_path": "__notebook__.ipynb",
   "parameters": {},
   "start_time": "2022-04-30T19:01:35.467599",
   "version": "2.3.4"
  }
 },
 "nbformat": 4,
 "nbformat_minor": 5
}
